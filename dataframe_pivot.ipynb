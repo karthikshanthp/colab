{
  "nbformat": 4,
  "nbformat_minor": 0,
  "metadata": {
    "colab": {
      "provenance": [],
      "authorship_tag": "ABX9TyMkFggvEXUk6/Yjn3poo+2O",
      "include_colab_link": true
    },
    "kernelspec": {
      "name": "python3",
      "display_name": "Python 3"
    },
    "language_info": {
      "name": "python"
    }
  },
  "cells": [
    {
      "cell_type": "markdown",
      "metadata": {
        "id": "view-in-github",
        "colab_type": "text"
      },
      "source": [
        "<a href=\"https://colab.research.google.com/github/karthikshanthp/colab/blob/main/dataframe_pivot.ipynb\" target=\"_parent\"><img src=\"https://colab.research.google.com/assets/colab-badge.svg\" alt=\"Open In Colab\"/></a>"
      ]
    },
    {
      "cell_type": "code",
      "execution_count": 1,
      "metadata": {
        "colab": {
          "base_uri": "https://localhost:8080/"
        },
        "id": "Bs2UrGCOsFra",
        "outputId": "58bfede5-24d2-40b2-c1f4-545d7ccd010c"
      },
      "outputs": [
        {
          "output_type": "stream",
          "name": "stdout",
          "text": [
            "Collecting pyspark\n",
            "  Downloading pyspark-3.5.1.tar.gz (317.0 MB)\n",
            "\u001b[2K     \u001b[90m━━━━━━━━━━━━━━━━━━━━━━━━━━━━━━━━━━━━━━━━\u001b[0m \u001b[32m317.0/317.0 MB\u001b[0m \u001b[31m3.1 MB/s\u001b[0m eta \u001b[36m0:00:00\u001b[0m\n",
            "\u001b[?25h  Preparing metadata (setup.py) ... \u001b[?25l\u001b[?25hdone\n",
            "Requirement already satisfied: py4j==0.10.9.7 in /usr/local/lib/python3.10/dist-packages (from pyspark) (0.10.9.7)\n",
            "Building wheels for collected packages: pyspark\n",
            "  Building wheel for pyspark (setup.py) ... \u001b[?25l\u001b[?25hdone\n",
            "  Created wheel for pyspark: filename=pyspark-3.5.1-py2.py3-none-any.whl size=317488491 sha256=174f0a77e1a580af710f755647640f9e893663b879c898057cc3aee43003303c\n",
            "  Stored in directory: /root/.cache/pip/wheels/80/1d/60/2c256ed38dddce2fdd93be545214a63e02fbd8d74fb0b7f3a6\n",
            "Successfully built pyspark\n",
            "Installing collected packages: pyspark\n",
            "Successfully installed pyspark-3.5.1\n"
          ]
        }
      ],
      "source": [
        "pip install pyspark"
      ]
    },
    {
      "cell_type": "code",
      "source": [
        "import pyspark\n",
        "from pyspark.sql import SparkSession\n",
        "from pyspark.sql.functions import *"
      ],
      "metadata": {
        "id": "Mxa1j1BbsSfQ"
      },
      "execution_count": 2,
      "outputs": []
    },
    {
      "cell_type": "code",
      "source": [
        "data = [\n",
        "\n",
        "    (2021, 1, \"US\", 5000),\n",
        "    (2021, 1, \"EU\", 4000),\n",
        "    (2021, 2, \"US\", 5500),\n",
        "    (2021, 2, \"EU\", 4500),\n",
        "    (2021, 3, \"US\", 6000),\n",
        "    (2021, 3, \"EU\", 5000),\n",
        "    (2021, 4, \"US\", 7000),\n",
        "    (2021, 4, \"EU\", 6000)\n",
        "        ]"
      ],
      "metadata": {
        "id": "TnJ4wsq1sKVj"
      },
      "execution_count": 3,
      "outputs": []
    },
    {
      "cell_type": "code",
      "source": [
        "columns = [\"year\", \"quarter\", \"region\", 'sales']"
      ],
      "metadata": {
        "id": "f4nRJc2EtIpE"
      },
      "execution_count": 9,
      "outputs": []
    },
    {
      "cell_type": "code",
      "source": [
        "spark = SparkSession.builder.appName(\"dtaframe to sf\").getOrCreate()"
      ],
      "metadata": {
        "id": "GjpuCFMtsRYw"
      },
      "execution_count": 6,
      "outputs": []
    },
    {
      "cell_type": "code",
      "source": [
        "df = spark.createDataFrame(data, columns)"
      ],
      "metadata": {
        "id": "s6eHZDTts4GR"
      },
      "execution_count": 10,
      "outputs": []
    },
    {
      "cell_type": "code",
      "source": [
        "df.show()"
      ],
      "metadata": {
        "colab": {
          "base_uri": "https://localhost:8080/"
        },
        "id": "Mu0xFIEMtAU7",
        "outputId": "c04ac2bc-f252-4cfc-de63-54098bba4763"
      },
      "execution_count": 11,
      "outputs": [
        {
          "output_type": "stream",
          "name": "stdout",
          "text": [
            "+----+-------+------+-----+\n",
            "|year|quarter|region|sales|\n",
            "+----+-------+------+-----+\n",
            "|2021|      1|    US| 5000|\n",
            "|2021|      1|    EU| 4000|\n",
            "|2021|      2|    US| 5500|\n",
            "|2021|      2|    EU| 4500|\n",
            "|2021|      3|    US| 6000|\n",
            "|2021|      3|    EU| 5000|\n",
            "|2021|      4|    US| 7000|\n",
            "|2021|      4|    EU| 6000|\n",
            "+----+-------+------+-----+\n",
            "\n"
          ]
        }
      ]
    },
    {
      "cell_type": "code",
      "source": [
        "dfpivot = df.groupBy(\"year\",\"quarter\").pivot(\"region\").avg(\"sales\")\n",
        "dfpivot.sort(\"year\",\"quarter\")"
      ],
      "metadata": {
        "colab": {
          "base_uri": "https://localhost:8080/"
        },
        "id": "wZ0x9JhktXGs",
        "outputId": "ce0454d8-eca3-44c8-f79f-1ad900b38b68"
      },
      "execution_count": 18,
      "outputs": [
        {
          "output_type": "execute_result",
          "data": {
            "text/plain": [
              "DataFrame[year: bigint, quarter: bigint, EU: double, US: double]"
            ]
          },
          "metadata": {},
          "execution_count": 18
        }
      ]
    },
    {
      "cell_type": "code",
      "source": [
        "dfpivot.show()"
      ],
      "metadata": {
        "colab": {
          "base_uri": "https://localhost:8080/"
        },
        "id": "zI2BpbB9tjyq",
        "outputId": "9351f23a-e369-4165-d812-8be1c6e18e65"
      },
      "execution_count": 19,
      "outputs": [
        {
          "output_type": "stream",
          "name": "stdout",
          "text": [
            "+----+-------+------+------+\n",
            "|year|quarter|    EU|    US|\n",
            "+----+-------+------+------+\n",
            "|2021|      2|4500.0|5500.0|\n",
            "|2021|      1|4000.0|5000.0|\n",
            "|2021|      4|6000.0|7000.0|\n",
            "|2021|      3|5000.0|6000.0|\n",
            "+----+-------+------+------+\n",
            "\n"
          ]
        }
      ]
    },
    {
      "cell_type": "code",
      "source": [
        "dfpivot.filter(dfpivot[\"EU\"]>=5000).show()"
      ],
      "metadata": {
        "colab": {
          "base_uri": "https://localhost:8080/"
        },
        "id": "x0N6IEhPuUoo",
        "outputId": "377dda69-f4ef-4fe4-d826-927fbe28c0c4"
      },
      "execution_count": 21,
      "outputs": [
        {
          "output_type": "stream",
          "name": "stdout",
          "text": [
            "+----+-------+------+------+\n",
            "|year|quarter|    EU|    US|\n",
            "+----+-------+------+------+\n",
            "|2021|      4|6000.0|7000.0|\n",
            "|2021|      3|5000.0|6000.0|\n",
            "+----+-------+------+------+\n",
            "\n"
          ]
        }
      ]
    },
    {
      "cell_type": "code",
      "source": [
        "# unpivotExpr = \"stack(2, 'EU',EU, 'US', US) as (region,revenue)\"\n",
        "\n",
        "# unPivotDF = pivot_df.select(\"year\",\"quarter\", expr(unpivotExpr)).where(\"revenue is not null\")\n",
        "\n",
        "# unPivotDF.show()"
      ],
      "metadata": {
        "id": "_lvs5c52yRUi"
      },
      "execution_count": null,
      "outputs": []
    },
    {
      "cell_type": "code",
      "source": [
        "unpivot = \"stack(2, 'EU', EU, 'US', US) as (region, revenue)\"\n",
        "unpivotDF = dfpivot.select(\"year\", \"quarter\", expr(unpivot)).where(\"revenue is not null\").show()"
      ],
      "metadata": {
        "colab": {
          "base_uri": "https://localhost:8080/"
        },
        "id": "FG-axw4IyTTc",
        "outputId": "9f67d3e9-d2ca-4aa2-d6b2-a3bf3a371f65"
      },
      "execution_count": 23,
      "outputs": [
        {
          "output_type": "stream",
          "name": "stdout",
          "text": [
            "+----+-------+------+-------+\n",
            "|year|quarter|region|revenue|\n",
            "+----+-------+------+-------+\n",
            "|2021|      2|    EU| 4500.0|\n",
            "|2021|      2|    US| 5500.0|\n",
            "|2021|      1|    EU| 4000.0|\n",
            "|2021|      1|    US| 5000.0|\n",
            "|2021|      4|    EU| 6000.0|\n",
            "|2021|      4|    US| 7000.0|\n",
            "|2021|      3|    EU| 5000.0|\n",
            "|2021|      3|    US| 6000.0|\n",
            "+----+-------+------+-------+\n",
            "\n"
          ]
        }
      ]
    }
  ]
}