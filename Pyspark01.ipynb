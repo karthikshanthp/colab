{
  "nbformat": 4,
  "nbformat_minor": 0,
  "metadata": {
    "colab": {
      "provenance": [],
      "authorship_tag": "ABX9TyPtoXNaRdioFkG2JA9BJ9bV",
      "include_colab_link": true
    },
    "kernelspec": {
      "name": "python3",
      "display_name": "Python 3"
    },
    "language_info": {
      "name": "python"
    }
  },
  "cells": [
    {
      "cell_type": "markdown",
      "metadata": {
        "id": "view-in-github",
        "colab_type": "text"
      },
      "source": [
        "<a href=\"https://colab.research.google.com/github/karthikshanthp/colab/blob/main/Pyspark01.ipynb\" target=\"_parent\"><img src=\"https://colab.research.google.com/assets/colab-badge.svg\" alt=\"Open In Colab\"/></a>"
      ]
    },
    {
      "cell_type": "code",
      "execution_count": 1,
      "metadata": {
        "colab": {
          "base_uri": "https://localhost:8080/"
        },
        "id": "SM5UJB0e3zav",
        "outputId": "ba0ef18a-6796-44fc-cb1a-d5d93f978306"
      },
      "outputs": [
        {
          "output_type": "stream",
          "name": "stdout",
          "text": [
            "Collecting pyspark\n",
            "  Downloading pyspark-3.5.1.tar.gz (317.0 MB)\n",
            "\u001b[2K     \u001b[90m━━━━━━━━━━━━━━━━━━━━━━━━━━━━━━━━━━━━━━━━\u001b[0m \u001b[32m317.0/317.0 MB\u001b[0m \u001b[31m2.1 MB/s\u001b[0m eta \u001b[36m0:00:00\u001b[0m\n",
            "\u001b[?25h  Preparing metadata (setup.py) ... \u001b[?25l\u001b[?25hdone\n",
            "Requirement already satisfied: py4j==0.10.9.7 in /usr/local/lib/python3.10/dist-packages (from pyspark) (0.10.9.7)\n",
            "Building wheels for collected packages: pyspark\n",
            "  Building wheel for pyspark (setup.py) ... \u001b[?25l\u001b[?25hdone\n",
            "  Created wheel for pyspark: filename=pyspark-3.5.1-py2.py3-none-any.whl size=317488491 sha256=a692208d69b3ea42c1263f4daf65340f9d833f352576d5b499d576f4e32912ae\n",
            "  Stored in directory: /root/.cache/pip/wheels/80/1d/60/2c256ed38dddce2fdd93be545214a63e02fbd8d74fb0b7f3a6\n",
            "Successfully built pyspark\n",
            "Installing collected packages: pyspark\n",
            "Successfully installed pyspark-3.5.1\n"
          ]
        }
      ],
      "source": [
        "pip install pyspark"
      ]
    },
    {
      "cell_type": "code",
      "source": [
        "from pyspark.sql import SparkSession\n",
        "spark=SparkSession.builder.appName(\"pyspark\").getOrCreate()\n",
        "data=[(45,'rob',1),(43,'bob',2),(53,'bobatea',3)]\n",
        "df=spark.createDataFrame(data,['age','name', 'id'])\n",
        "datarole=[(1,'engineer'),(2,'sales'),(3,'marketing')]\n",
        "dfrole=spark.createDataFrame(datarole,['role_id','role_name'])\n",
        "dataroleusermap=[(1,1),(2,3),(3,2)]\n",
        "dfroleusermap=spark.createDataFrame(dataroleusermap,['role_id','id'])"
      ],
      "metadata": {
        "id": "3kBaLpEa4y2f"
      },
      "execution_count": 17,
      "outputs": []
    },
    {
      "cell_type": "code",
      "source": [
        "df.show()\n",
        "dfrole.show()\n",
        "dfroleusermap.show()"
      ],
      "metadata": {
        "colab": {
          "base_uri": "https://localhost:8080/"
        },
        "id": "K_0NFFyQ5aIm",
        "outputId": "3211a6bb-663e-40e9-a28e-0aaabac3fae5"
      },
      "execution_count": 18,
      "outputs": [
        {
          "output_type": "stream",
          "name": "stdout",
          "text": [
            "+---+-------+---+\n",
            "|age|   name| id|\n",
            "+---+-------+---+\n",
            "| 45|    rob|  1|\n",
            "| 43|    bob|  2|\n",
            "| 53|bobatea|  3|\n",
            "+---+-------+---+\n",
            "\n",
            "+-------+---------+\n",
            "|role_id|role_name|\n",
            "+-------+---------+\n",
            "|      1| engineer|\n",
            "|      2|    sales|\n",
            "|      3|marketing|\n",
            "+-------+---------+\n",
            "\n",
            "+-------+---+\n",
            "|role_id| id|\n",
            "+-------+---+\n",
            "|      1|  1|\n",
            "|      2|  3|\n",
            "|      3|  2|\n",
            "+-------+---+\n",
            "\n"
          ]
        }
      ]
    },
    {
      "cell_type": "code",
      "source": [
        "print(df.sort('age').show())"
      ],
      "metadata": {
        "colab": {
          "base_uri": "https://localhost:8080/"
        },
        "id": "YaC7iNHZ5hwP",
        "outputId": "9438fa7c-e3b4-40ab-83f5-e46a1f10760c"
      },
      "execution_count": 11,
      "outputs": [
        {
          "output_type": "stream",
          "name": "stdout",
          "text": [
            "+---+----+\n",
            "|age|name|\n",
            "+---+----+\n",
            "| 43| bob|\n",
            "| 45| rob|\n",
            "+---+----+\n",
            "\n",
            "None\n"
          ]
        }
      ]
    },
    {
      "cell_type": "code",
      "source": [
        "dfjoin=dfroleusermap.join(df,dfroleusermap.id==df.id).show()\n",
        "      #  .join(dfrole,dfroleusermap.role_id==dfrole.role_id).show()"
      ],
      "metadata": {
        "colab": {
          "base_uri": "https://localhost:8080/"
        },
        "id": "P-GSMpD_6paw",
        "outputId": "6b62a5a5-7ded-4195-8455-87d23e93e2e7"
      },
      "execution_count": 20,
      "outputs": [
        {
          "output_type": "stream",
          "name": "stdout",
          "text": [
            "+-------+---+---+-------+---+\n",
            "|role_id| id|age|   name| id|\n",
            "+-------+---+---+-------+---+\n",
            "|      1|  1| 45|    rob|  1|\n",
            "|      3|  2| 43|    bob|  2|\n",
            "|      2|  3| 53|bobatea|  3|\n",
            "+-------+---+---+-------+---+\n",
            "\n"
          ]
        }
      ]
    },
    {
      "cell_type": "code",
      "source": [
        "dfresultjoin = dfroleusermap.join(df, dfroleusermap.id==df.id) \\\n",
        "    .join(dfrole, dfroleusermap.role_id==dfrole.role_id) \\\n",
        "    .select(df.name,df.age,dfrole.role_name) \\\n",
        "    .orderBy(df.age.asc()).show()\n",
        "\n"
      ],
      "metadata": {
        "colab": {
          "base_uri": "https://localhost:8080/"
        },
        "id": "6OsEU5tS7bVo",
        "outputId": "b7231490-7c81-4863-acc9-e0793517b747"
      },
      "execution_count": 30,
      "outputs": [
        {
          "output_type": "stream",
          "name": "stdout",
          "text": [
            "+-------+---+---------+\n",
            "|   name|age|role_name|\n",
            "+-------+---+---------+\n",
            "|    bob| 43|marketing|\n",
            "|    rob| 45| engineer|\n",
            "|bobatea| 53|    sales|\n",
            "+-------+---+---------+\n",
            "\n"
          ]
        }
      ]
    }
  ]
}