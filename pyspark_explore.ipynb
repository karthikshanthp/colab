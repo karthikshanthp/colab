{
  "nbformat": 4,
  "nbformat_minor": 0,
  "metadata": {
    "colab": {
      "provenance": [],
      "history_visible": true,
      "authorship_tag": "ABX9TyN4zGGZzE6cqR3TIU0E2uGU",
      "include_colab_link": true
    },
    "kernelspec": {
      "name": "python3",
      "display_name": "Python 3"
    },
    "language_info": {
      "name": "python"
    }
  },
  "cells": [
    {
      "cell_type": "markdown",
      "metadata": {
        "id": "view-in-github",
        "colab_type": "text"
      },
      "source": [
        "<a href=\"https://colab.research.google.com/github/karthikshanthp/colab/blob/main/pyspark_explore.ipynb\" target=\"_parent\"><img src=\"https://colab.research.google.com/assets/colab-badge.svg\" alt=\"Open In Colab\"/></a>"
      ]
    },
    {
      "cell_type": "code",
      "source": [
        "pip install pyspark==3.1.3"
      ],
      "metadata": {
        "colab": {
          "base_uri": "https://localhost:8080/"
        },
        "id": "8qmvogij-pdH",
        "outputId": "7c829825-fbc6-4c85-a105-455055477f36"
      },
      "execution_count": 1,
      "outputs": [
        {
          "output_type": "stream",
          "name": "stdout",
          "text": [
            "Collecting pyspark==3.1.3\n",
            "  Downloading pyspark-3.1.3.tar.gz (214.0 MB)\n",
            "\u001b[2K     \u001b[90m━━━━━━━━━━━━━━━━━━━━━━━━━━━━━━━━━━━━━━━━\u001b[0m \u001b[32m214.0/214.0 MB\u001b[0m \u001b[31m3.3 MB/s\u001b[0m eta \u001b[36m0:00:00\u001b[0m\n",
            "\u001b[?25h  Preparing metadata (setup.py) ... \u001b[?25l\u001b[?25hdone\n",
            "Collecting py4j==0.10.9 (from pyspark==3.1.3)\n",
            "  Downloading py4j-0.10.9-py2.py3-none-any.whl (198 kB)\n",
            "\u001b[2K     \u001b[90m━━━━━━━━━━━━━━━━━━━━━━━━━━━━━━━━━━━━━━━━\u001b[0m \u001b[32m198.6/198.6 kB\u001b[0m \u001b[31m9.3 MB/s\u001b[0m eta \u001b[36m0:00:00\u001b[0m\n",
            "\u001b[?25hBuilding wheels for collected packages: pyspark\n",
            "  Building wheel for pyspark (setup.py) ... \u001b[?25l\u001b[?25hdone\n",
            "  Created wheel for pyspark: filename=pyspark-3.1.3-py2.py3-none-any.whl size=214463461 sha256=fecf6ea8c61223dd9296ea231586f240e01c808c6d94b58100b35f6bac87fda2\n",
            "  Stored in directory: /root/.cache/pip/wheels/b0/d0/fd/b0e0165f0fbd79838d2f50c544382e7a5346274f0af07ffada\n",
            "Successfully built pyspark\n",
            "Installing collected packages: py4j, pyspark\n",
            "  Attempting uninstall: py4j\n",
            "    Found existing installation: py4j 0.10.9.7\n",
            "    Uninstalling py4j-0.10.9.7:\n",
            "      Successfully uninstalled py4j-0.10.9.7\n",
            "Successfully installed py4j-0.10.9 pyspark-3.1.3\n"
          ]
        }
      ]
    },
    {
      "cell_type": "code",
      "execution_count": 87,
      "metadata": {
        "id": "8zXbT2fO-M6A"
      },
      "outputs": [],
      "source": [
        "import pyspark\n",
        "from pyspark.sql import SparkSession\n",
        "from pyspark.sql.functions import col\n",
        "\n",
        "spark = SparkSession.builder.appName('Dataframe').getOrCreate()\n",
        "\n"
      ]
    },
    {
      "cell_type": "code",
      "source": [
        "data = {'age': '31', 'name': 'karthik'}"
      ],
      "metadata": {
        "id": "8VVbl3lukXG8"
      },
      "execution_count": 5,
      "outputs": []
    },
    {
      "cell_type": "code",
      "source": [
        "df= spark.read.json(\"/content/sample_data/anscombe.json\")\n",
        "df2=spark.read.load(\"/content/sample_data/anscombe.json\", format=\"json\")\n",
        "df.show()\n"
      ],
      "metadata": {
        "id": "lr2YRosvkkO2"
      },
      "execution_count": null,
      "outputs": []
    },
    {
      "cell_type": "markdown",
      "source": [],
      "metadata": {
        "id": "lAdNsZldmACW"
      }
    },
    {
      "cell_type": "code",
      "source": [
        "df2.show()"
      ],
      "metadata": {
        "colab": {
          "base_uri": "https://localhost:8080/"
        },
        "id": "kz_l4c7rmAYK",
        "outputId": "90f67047-ce14-4da4-e199-976be71f8f94"
      },
      "execution_count": 22,
      "outputs": [
        {
          "output_type": "stream",
          "name": "stdout",
          "text": [
            "+------+----+-----+---------------+\n",
            "|Series|   X|    Y|_corrupt_record|\n",
            "+------+----+-----+---------------+\n",
            "|  null|null| null|              [|\n",
            "|     I|10.0| 8.04|           null|\n",
            "|     I| 8.0| 6.95|           null|\n",
            "|     I|13.0| 7.58|           null|\n",
            "|     I| 9.0| 8.81|           null|\n",
            "|     I|11.0| 8.33|           null|\n",
            "|     I|14.0| 9.96|           null|\n",
            "|     I| 6.0| 7.24|           null|\n",
            "|     I| 4.0| 4.26|           null|\n",
            "|     I|12.0|10.84|           null|\n",
            "|     I| 7.0| 4.81|           null|\n",
            "|     I| 5.0| 5.68|           null|\n",
            "|    II|10.0| 9.14|           null|\n",
            "|    II| 8.0| 8.14|           null|\n",
            "|    II|13.0| 8.74|           null|\n",
            "|    II| 9.0| 8.77|           null|\n",
            "|    II|11.0| 9.26|           null|\n",
            "|    II|14.0|  8.1|           null|\n",
            "|    II| 6.0| 6.13|           null|\n",
            "|    II| 4.0|  3.1|           null|\n",
            "+------+----+-----+---------------+\n",
            "only showing top 20 rows\n",
            "\n"
          ]
        }
      ]
    },
    {
      "cell_type": "code",
      "source": [
        "# df2.head(5)\n",
        "# df2.dtypes\n",
        "# df2.printSchema()\n",
        "# df2.first()\n",
        "df2.take(2)\n"
      ],
      "metadata": {
        "colab": {
          "base_uri": "https://localhost:8080/"
        },
        "id": "FdcgnLPVmLSQ",
        "outputId": "9c2910b8-c852-4514-8bea-b6ec286517ef"
      },
      "execution_count": 39,
      "outputs": [
        {
          "output_type": "execute_result",
          "data": {
            "text/plain": [
              "[Row(Series=None, X=None, Y=None, _corrupt_record='['),\n",
              " Row(Series='I', X=10.0, Y=8.04, _corrupt_record=None)]"
            ]
          },
          "metadata": {},
          "execution_count": 39
        }
      ]
    },
    {
      "cell_type": "code",
      "source": [
        "df.cache()"
      ],
      "metadata": {
        "colab": {
          "base_uri": "https://localhost:8080/"
        },
        "id": "9ANNmT9Tmy2E",
        "outputId": "1c680efd-875e-4f5e-d0b4-448b071e2549"
      },
      "execution_count": 41,
      "outputs": [
        {
          "output_type": "execute_result",
          "data": {
            "text/plain": [
              "DataFrame[Series: string, X: double, Y: double, _corrupt_record: string]"
            ]
          },
          "metadata": {},
          "execution_count": 41
        }
      ]
    },
    {
      "cell_type": "code",
      "source": [
        "df.schema"
      ],
      "metadata": {
        "colab": {
          "base_uri": "https://localhost:8080/"
        },
        "id": "MtvVab5am7g1",
        "outputId": "40e96493-891e-48f5-b597-a27467c6424a"
      },
      "execution_count": 42,
      "outputs": [
        {
          "output_type": "execute_result",
          "data": {
            "text/plain": [
              "StructType(List(StructField(Series,StringType,true),StructField(X,DoubleType,true),StructField(Y,DoubleType,true),StructField(_corrupt_record,StringType,true)))"
            ]
          },
          "metadata": {},
          "execution_count": 42
        }
      ]
    },
    {
      "cell_type": "code",
      "source": [
        "dfcust=spark.read.load(\"/content/sample_data/Customer.csv\", header=True, format=\"csv\")"
      ],
      "metadata": {
        "id": "neg0y8OqnUGB"
      },
      "execution_count": 45,
      "outputs": []
    },
    {
      "cell_type": "code",
      "source": [
        "dfcust.show()"
      ],
      "metadata": {
        "colab": {
          "base_uri": "https://localhost:8080/"
        },
        "id": "g9fvIMi5nfTH",
        "outputId": "e95d198a-cdaa-4a35-d4fa-a58fd7e19f4c"
      },
      "execution_count": 46,
      "outputs": [
        {
          "output_type": "stream",
          "name": "stdout",
          "text": [
            "+---+------+--------------+-----+\n",
            "|Age|Gender|Payment Method|Label|\n",
            "+---+------+--------------+-----+\n",
            "| 64|  male|   credit card|  yes|\n",
            "| 35|  male|        cheque|  yes|\n",
            "| 25|female|   credit card|  yes|\n",
            "| 39|female|   credit card|   no|\n",
            "| 39|  male|   credit card|  yes|\n",
            "| 28|female|        cheque|   no|\n",
            "| 21|female|   credit card|  yes|\n",
            "| 48|  male|   credit card|  yes|\n",
            "| 70|female|   credit card|   no|\n",
            "| 36|  male|   credit card|  yes|\n",
            "| 22|  male|   credit card|  yes|\n",
            "| 53|female|          cash|   no|\n",
            "| 27|  male|          cash|  yes|\n",
            "| 40|  male|   credit card|  yes|\n",
            "| 22|  male|          cash|  yes|\n",
            "| 49|female|   credit card|   no|\n",
            "| 24|female|          cash|   no|\n",
            "| 45|  male|   credit card|  yes|\n",
            "| 45|  male|   credit card|  yes|\n",
            "| 66|female|          cash|   no|\n",
            "+---+------+--------------+-----+\n",
            "only showing top 20 rows\n",
            "\n"
          ]
        }
      ]
    },
    {
      "cell_type": "code",
      "source": [
        "dfcust.sort(['age','gender'], orderby=[0,1]).show()"
      ],
      "metadata": {
        "colab": {
          "base_uri": "https://localhost:8080/"
        },
        "id": "FhPuT6KQnplP",
        "outputId": "5a05a880-8ffa-4e7f-857d-8b8e46bb3b55"
      },
      "execution_count": 47,
      "outputs": [
        {
          "output_type": "stream",
          "name": "stdout",
          "text": [
            "+---+------+--------------+-----+\n",
            "|Age|Gender|Payment Method|Label|\n",
            "+---+------+--------------+-----+\n",
            "| 17|female|          cash|   no|\n",
            "| 17|female|   credit card|  yes|\n",
            "| 17|female|          cash|   no|\n",
            "| 17|female|   credit card|  yes|\n",
            "| 17|female|   credit card|  yes|\n",
            "| 17|female|   credit card|  yes|\n",
            "| 17|female|   credit card|  yes|\n",
            "| 17|female|   credit card|  yes|\n",
            "| 17|female|   credit card|  yes|\n",
            "| 17|female|   credit card|  yes|\n",
            "| 17|female|   credit card|  yes|\n",
            "| 17|female|   credit card|  yes|\n",
            "| 17|female|   credit card|  yes|\n",
            "| 17|female|   credit card|  yes|\n",
            "| 17|female|   credit card|  yes|\n",
            "| 17|female|        cheque|   no|\n",
            "| 17|  male|        cheque|  yes|\n",
            "| 17|  male|   credit card|  yes|\n",
            "| 17|  male|   credit card|  yes|\n",
            "| 17|  male|          cash|  yes|\n",
            "+---+------+--------------+-----+\n",
            "only showing top 20 rows\n",
            "\n"
          ]
        }
      ]
    },
    {
      "cell_type": "code",
      "source": [
        "# dfcustfiltered=dfcust.filter(col('age')>45).sort(dfcust['age'].asc()).filter((dfcust['payment method']== \"cash\" ) & (dfcust['Gender']==\"male\")).show()\n",
        "dfcustfiltered=dfcust.filter(col('age')>45).sort(dfcust['age'].asc()).filter((dfcust['payment method']== \"cash\" ) & (dfcust['Gender']==\"male\"))"
      ],
      "metadata": {
        "id": "AErjhXI8oG0l"
      },
      "execution_count": 66,
      "outputs": []
    },
    {
      "cell_type": "code",
      "source": [
        "dfcustfiltered.show()"
      ],
      "metadata": {
        "colab": {
          "base_uri": "https://localhost:8080/"
        },
        "id": "nJzihPGfq0yT",
        "outputId": "f12cd25b-39a6-4c81-e0a7-226eeb546218"
      },
      "execution_count": 75,
      "outputs": [
        {
          "output_type": "stream",
          "name": "stdout",
          "text": [
            "+---+------+--------------+-----+\n",
            "|Age|Gender|Payment Method|Label|\n",
            "+---+------+--------------+-----+\n",
            "| 46|  male|          cash|   no|\n",
            "| 46|  male|          cash|   no|\n",
            "| 47|  male|          cash|   no|\n",
            "| 47|  male|          cash|   no|\n",
            "| 47|  male|          cash|   no|\n",
            "| 48|  male|          cash|   no|\n",
            "| 49|  male|          cash|   no|\n",
            "| 50|  male|          cash|   no|\n",
            "| 50|  male|          cash|   no|\n",
            "| 50|  male|          cash|   no|\n",
            "| 51|  male|          cash|   no|\n",
            "| 51|  male|          cash|   no|\n",
            "| 51|  male|          cash|   no|\n",
            "| 51|  male|          cash|   no|\n",
            "| 52|  male|          cash|   no|\n",
            "| 52|  male|          cash|   no|\n",
            "| 52|  male|          cash|   no|\n",
            "| 52|  male|          cash|   no|\n",
            "| 52|  male|          cash|   no|\n",
            "| 52|  male|          cash|   no|\n",
            "+---+------+--------------+-----+\n",
            "only showing top 20 rows\n",
            "\n"
          ]
        }
      ]
    },
    {
      "cell_type": "code",
      "source": [
        "dfcustfiltered.groupBy('age').count().sort('count', ascending= True).filter(col('count')>=3).show()"
      ],
      "metadata": {
        "colab": {
          "base_uri": "https://localhost:8080/"
        },
        "id": "o5EKReosrhF-",
        "outputId": "cac0dccd-0044-43a5-b1ba-88e4b1b59864"
      },
      "execution_count": 83,
      "outputs": [
        {
          "output_type": "stream",
          "name": "stdout",
          "text": [
            "+---+-----+\n",
            "|age|count|\n",
            "+---+-----+\n",
            "| 70|    3|\n",
            "| 81|    3|\n",
            "| 67|    3|\n",
            "| 56|    3|\n",
            "| 47|    3|\n",
            "| 50|    3|\n",
            "| 55|    3|\n",
            "| 51|    4|\n",
            "| 65|    4|\n",
            "| 54|    4|\n",
            "| 57|    4|\n",
            "| 68|    4|\n",
            "| 72|    5|\n",
            "| 52|    6|\n",
            "+---+-----+\n",
            "\n"
          ]
        }
      ]
    },
    {
      "cell_type": "code",
      "source": [
        "import pyspark\n",
        "dfcustfiltered.persist(pyspark.StorageLevel.MEMORY_ONLY)\n",
        "dfcustfiltered.unpersist()"
      ],
      "metadata": {
        "colab": {
          "base_uri": "https://localhost:8080/"
        },
        "id": "CEFD19TatNV3",
        "outputId": "a4c30c05-05d2-4808-b1ea-e5496d90f175"
      },
      "execution_count": 93,
      "outputs": [
        {
          "output_type": "execute_result",
          "data": {
            "text/plain": [
              "DataFrame[Age: string, Gender: string, Payment Method: string, Label: string]"
            ]
          },
          "metadata": {},
          "execution_count": 93
        }
      ]
    },
    {
      "cell_type": "code",
      "source": [],
      "metadata": {
        "id": "0UsUfGjCtvmz"
      },
      "execution_count": null,
      "outputs": []
    }
  ]
}