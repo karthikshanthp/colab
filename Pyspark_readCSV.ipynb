{
  "nbformat": 4,
  "nbformat_minor": 0,
  "metadata": {
    "colab": {
      "provenance": [],
      "mount_file_id": "1vayqr8WVX05OfgXfHrhB-FulwzZ3TnPz",
      "authorship_tag": "ABX9TyN0qdz7aPKQhZi5bP8gyNE9",
      "include_colab_link": true
    },
    "kernelspec": {
      "name": "python3",
      "display_name": "Python 3"
    },
    "language_info": {
      "name": "python"
    }
  },
  "cells": [
    {
      "cell_type": "markdown",
      "metadata": {
        "id": "view-in-github",
        "colab_type": "text"
      },
      "source": [
        "<a href=\"https://colab.research.google.com/github/karthikshanthp/colab/blob/main/Pyspark_readCSV.ipynb\" target=\"_parent\"><img src=\"https://colab.research.google.com/assets/colab-badge.svg\" alt=\"Open In Colab\"/></a>"
      ]
    },
    {
      "cell_type": "markdown",
      "source": [
        "Pyspark code to read a csv file, create RDD, inspect the dataframe, filter, create new columns, create calculated columns, group by data, perform aggregations, and finally write the dataframe into different file formats like CSV, PARQUET, TXT,JSON"
      ],
      "metadata": {
        "id": "sVrJBOb5Fpb2"
      }
    },
    {
      "cell_type": "code",
      "execution_count": 2,
      "metadata": {
        "colab": {
          "base_uri": "https://localhost:8080/"
        },
        "id": "GcCLBczSTyX-",
        "outputId": "ca7ba896-9fa3-4a71-b107-6c59287afa3b"
      },
      "outputs": [
        {
          "output_type": "stream",
          "name": "stdout",
          "text": [
            "Collecting pyspark\n",
            "  Downloading pyspark-3.5.1.tar.gz (317.0 MB)\n",
            "\u001b[2K     \u001b[90m━━━━━━━━━━━━━━━━━━━━━━━━━━━━━━━━━━━━━━━━\u001b[0m \u001b[32m317.0/317.0 MB\u001b[0m \u001b[31m5.2 MB/s\u001b[0m eta \u001b[36m0:00:00\u001b[0m\n",
            "\u001b[?25h  Preparing metadata (setup.py) ... \u001b[?25l\u001b[?25hdone\n",
            "Requirement already satisfied: py4j in /usr/local/lib/python3.10/dist-packages (0.10.9.7)\n",
            "Building wheels for collected packages: pyspark\n",
            "  Building wheel for pyspark (setup.py) ... \u001b[?25l\u001b[?25hdone\n",
            "  Created wheel for pyspark: filename=pyspark-3.5.1-py2.py3-none-any.whl size=317488490 sha256=56a89d8430d1de5fce7bc582fa55d1a8517bfa80d9e4f88f32e09b3e43bcc218\n",
            "  Stored in directory: /root/.cache/pip/wheels/80/1d/60/2c256ed38dddce2fdd93be545214a63e02fbd8d74fb0b7f3a6\n",
            "Successfully built pyspark\n",
            "Installing collected packages: pyspark\n",
            "Successfully installed pyspark-3.5.1\n"
          ]
        }
      ],
      "source": [
        "!pip install pyspark py4j"
      ]
    },
    {
      "cell_type": "code",
      "source": [
        "from pyspark.sql import SparkSession\n",
        "from pyspark.sql.functions import *\n",
        "from pyspark.sql.types import *"
      ],
      "metadata": {
        "id": "zUA_x-gfT9Mc"
      },
      "execution_count": 3,
      "outputs": []
    },
    {
      "cell_type": "code",
      "source": [
        "spark = SparkSession.builder.getOrCreate()\n",
        "\n",
        "\n"
      ],
      "metadata": {
        "id": "yIi1Nru8UMOd"
      },
      "execution_count": 4,
      "outputs": []
    },
    {
      "cell_type": "markdown",
      "source": [
        "#Make sure the original.csv file is located in the google connected google drive account before processing this code cell"
      ],
      "metadata": {
        "id": "pjBvNhEtGJJW"
      }
    },
    {
      "cell_type": "code",
      "source": [
        "\n",
        "df =  spark.read.csv('/content/drive/MyDrive/Colab Notebooks/resources/original.csv', header=True)"
      ],
      "metadata": {
        "id": "NHF34bmTVjuz"
      },
      "execution_count": 5,
      "outputs": []
    },
    {
      "cell_type": "code",
      "source": [
        "df.show()"
      ],
      "metadata": {
        "colab": {
          "base_uri": "https://localhost:8080/"
        },
        "id": "JAjo4dN1XHz2",
        "outputId": "127684e7-5090-46d4-de27-b1db24beae88"
      },
      "execution_count": 6,
      "outputs": [
        {
          "output_type": "stream",
          "name": "stdout",
          "text": [
            "+---+----------+----------+------+---------------+--------------------+---------+----------+-----------+\n",
            "| id|first_name| last_name|gender|           City|            JobTitle|   Salary|  Latitude|  Longitude|\n",
            "+---+----------+----------+------+---------------+--------------------+---------+----------+-----------+\n",
            "|  1|   Melinde| Shilburne|Female|      Nowa Ruda| Assistant Professor|$57438.18|50.5774075| 16.4967184|\n",
            "|  2|  Kimberly|Von Welden|Female|         Bulgan|       Programmer II|$62846.60|48.8231572|103.5218199|\n",
            "|  3|    Alvera|  Di Boldi|Female|           NULL|                NULL|$57576.52|39.9947462|116.3397725|\n",
            "|  4|   Shannon| O'Griffin|  Male|  Divnomorskoye|Budget/Accounting...|$61489.23|44.5047212| 38.1300171|\n",
            "|  5|  Sherwood|   Macieja|  Male|      Mytishchi|            VP Sales|$63863.09|      NULL| 37.6489954|\n",
            "|  6|     Maris|      Folk|Female|Kinsealy-Drinan|      Civil Engineer|$30101.16|53.4266145| -6.1644997|\n",
            "|  7|     Masha|    Divers|Female|         Dachun|                NULL|$25090.87| 24.879416| 118.930111|\n",
            "|  8|   Goddart|     Flear|  Male|      Trélissac|Desktop Support T...|$46116.36|45.1905186|  0.7423124|\n",
            "|  9|      Roth|O'Cannavan|  Male|         Heitan|VP Product Manage...|$73697.10| 32.027934| 106.657113|\n",
            "| 10|      Bran|   Trahear|  Male|       Arbeláez|Mechanical System...|$68098.42|  4.272793| -74.416014|\n",
            "| 11|    Kylynn|   Lockart|Female|       El Cardo|Nuclear Power Eng...|$13604.63|     -5.85|-79.8833329|\n",
            "| 12|       Rey|    Meharg|Female|    Wangqingtuo|Systems Administr...|$73423.70| 39.172378| 116.931607|\n",
            "| 13|      Kerr|    Braden|  Male|      Sułkowice|Compensation Analyst|$33432.99|49.8151822| 19.3771749|\n",
            "| 14|    Mickie| Whanstall|  Male|    Springfield|Assistant Media P...|$50838.53|42.1014803|-72.5766759|\n",
            "| 15|    Kaspar|     Pally|  Male|         Chrást|  Analyst Programmer|$40163.03|49.7923299| 13.4915324|\n",
            "| 16|    Norbie|    Gwyllt|  Male|         Xijiao|              Editor|$32492.73|43.4945737|  5.8978018|\n",
            "| 17|    Claude|    Briant|Female|      Mieścisko|Research Assistan...|$51862.48|52.7441662| 17.3278637|\n",
            "| 18|     Thain|    Habbon|  Male| Foros do Trapo|     Design Engineer|$42135.67| 38.696249| -8.7098337|\n",
            "| 19|  Tiffanie|  Pattison|Female|    Jabungsisir|Senior Financial ...|$91925.08|-7.7232567|113.4686802|\n",
            "| 20|    Ettore|  Gerriets|  Male|          Pedra| Staff Accountant IV|$73921.33|40.7172049| -8.3625148|\n",
            "+---+----------+----------+------+---------------+--------------------+---------+----------+-----------+\n",
            "only showing top 20 rows\n",
            "\n"
          ]
        }
      ]
    },
    {
      "cell_type": "code",
      "source": [
        "df.dtypes"
      ],
      "metadata": {
        "colab": {
          "base_uri": "https://localhost:8080/"
        },
        "id": "8nv5vNO-Vth_",
        "outputId": "6c88d522-edc2-4b52-8150-0d1ca735ceea"
      },
      "execution_count": 7,
      "outputs": [
        {
          "output_type": "execute_result",
          "data": {
            "text/plain": [
              "[('id', 'string'),\n",
              " ('first_name', 'string'),\n",
              " ('last_name', 'string'),\n",
              " ('gender', 'string'),\n",
              " ('City', 'string'),\n",
              " ('JobTitle', 'string'),\n",
              " ('Salary', 'string'),\n",
              " ('Latitude', 'string'),\n",
              " ('Longitude', 'string')]"
            ]
          },
          "metadata": {},
          "execution_count": 7
        }
      ]
    },
    {
      "cell_type": "code",
      "source": [
        "schema = StructType([\n",
        "    StructField('id', IntegerType()),\n",
        "    StructField('first_name', StringType()),\n",
        "    StructField('last_name', StringType()),\n",
        "    StructField('gender', StringType()),\n",
        "    StructField('city', StringType()),\n",
        "    StructField('JobTitle', StringType()),\n",
        "    StructField('salary', StringType()),\n",
        "    StructField('Latitude', FloatType()),\n",
        "    StructField('Longitude', FloatType())])\n"
      ],
      "metadata": {
        "id": "GEwfb-kWVvqn"
      },
      "execution_count": 8,
      "outputs": []
    },
    {
      "cell_type": "code",
      "source": [
        "df2 = spark.read.csv('/content/drive/MyDrive/Colab Notebooks/resources/original.csv', header=True, schema=schema)"
      ],
      "metadata": {
        "id": "FKAcVtU8W9MB"
      },
      "execution_count": 9,
      "outputs": []
    },
    {
      "cell_type": "code",
      "source": [
        "df2.dtypes"
      ],
      "metadata": {
        "colab": {
          "base_uri": "https://localhost:8080/"
        },
        "id": "gbyNKCJRXB1b",
        "outputId": "7af17768-fc86-4a55-df22-90568e485481"
      },
      "execution_count": 10,
      "outputs": [
        {
          "output_type": "execute_result",
          "data": {
            "text/plain": [
              "[('id', 'int'),\n",
              " ('first_name', 'string'),\n",
              " ('last_name', 'string'),\n",
              " ('gender', 'string'),\n",
              " ('city', 'string'),\n",
              " ('JobTitle', 'string'),\n",
              " ('salary', 'string'),\n",
              " ('Latitude', 'float'),\n",
              " ('Longitude', 'float')]"
            ]
          },
          "metadata": {},
          "execution_count": 10
        }
      ]
    },
    {
      "cell_type": "code",
      "source": [
        "df2.show()"
      ],
      "metadata": {
        "colab": {
          "base_uri": "https://localhost:8080/"
        },
        "id": "DXdM8WeqXEvp",
        "outputId": "6545d857-1551-4be3-f4f0-a3966dd089e9"
      },
      "execution_count": 11,
      "outputs": [
        {
          "output_type": "stream",
          "name": "stdout",
          "text": [
            "+---+----------+----------+------+---------------+--------------------+---------+----------+----------+\n",
            "| id|first_name| last_name|gender|           city|            JobTitle|   salary|  Latitude| Longitude|\n",
            "+---+----------+----------+------+---------------+--------------------+---------+----------+----------+\n",
            "|  1|   Melinde| Shilburne|Female|      Nowa Ruda| Assistant Professor|$57438.18| 50.577408| 16.496717|\n",
            "|  2|  Kimberly|Von Welden|Female|         Bulgan|       Programmer II|$62846.60|  48.82316| 103.52182|\n",
            "|  3|    Alvera|  Di Boldi|Female|           NULL|                NULL|$57576.52| 39.994747|116.339775|\n",
            "|  4|   Shannon| O'Griffin|  Male|  Divnomorskoye|Budget/Accounting...|$61489.23| 44.504723| 38.130016|\n",
            "|  5|  Sherwood|   Macieja|  Male|      Mytishchi|            VP Sales|$63863.09|      NULL| 37.648994|\n",
            "|  6|     Maris|      Folk|Female|Kinsealy-Drinan|      Civil Engineer|$30101.16| 53.426613|-6.1644998|\n",
            "|  7|     Masha|    Divers|Female|         Dachun|                NULL|$25090.87| 24.879416|118.930115|\n",
            "|  8|   Goddart|     Flear|  Male|      Trélissac|Desktop Support T...|$46116.36| 45.190517| 0.7423124|\n",
            "|  9|      Roth|O'Cannavan|  Male|         Heitan|VP Product Manage...|$73697.10| 32.027935| 106.65711|\n",
            "| 10|      Bran|   Trahear|  Male|       Arbeláez|Mechanical System...|$68098.42|  4.272793|-74.416016|\n",
            "| 11|    Kylynn|   Lockart|Female|       El Cardo|Nuclear Power Eng...|$13604.63|     -5.85| -79.88333|\n",
            "| 12|       Rey|    Meharg|Female|    Wangqingtuo|Systems Administr...|$73423.70|  39.17238| 116.93161|\n",
            "| 13|      Kerr|    Braden|  Male|      Sułkowice|Compensation Analyst|$33432.99|  49.81518| 19.377174|\n",
            "| 14|    Mickie| Whanstall|  Male|    Springfield|Assistant Media P...|$50838.53|  42.10148|-72.576675|\n",
            "| 15|    Kaspar|     Pally|  Male|         Chrást|  Analyst Programmer|$40163.03|  49.79233| 13.491532|\n",
            "| 16|    Norbie|    Gwyllt|  Male|         Xijiao|              Editor|$32492.73| 43.494576|  5.897802|\n",
            "| 17|    Claude|    Briant|Female|      Mieścisko|Research Assistan...|$51862.48| 52.744167| 17.327864|\n",
            "| 18|     Thain|    Habbon|  Male| Foros do Trapo|     Design Engineer|$42135.67| 38.696247| -8.709834|\n",
            "| 19|  Tiffanie|  Pattison|Female|    Jabungsisir|Senior Financial ...|$91925.08|-7.7232566| 113.46868|\n",
            "| 20|    Ettore|  Gerriets|  Male|          Pedra| Staff Accountant IV|$73921.33| 40.717205|-8.3625145|\n",
            "+---+----------+----------+------+---------------+--------------------+---------+----------+----------+\n",
            "only showing top 20 rows\n",
            "\n"
          ]
        }
      ]
    },
    {
      "cell_type": "code",
      "source": [
        "df2.head(15)"
      ],
      "metadata": {
        "colab": {
          "base_uri": "https://localhost:8080/"
        },
        "id": "jFO0N4rnZvjc",
        "outputId": "e67a5317-d436-42d9-a04e-6424bd8706d9"
      },
      "execution_count": 12,
      "outputs": [
        {
          "output_type": "execute_result",
          "data": {
            "text/plain": [
              "[Row(id=1, first_name='Melinde', last_name='Shilburne', gender='Female', city='Nowa Ruda', JobTitle='Assistant Professor', salary='$57438.18', Latitude=50.57740783691406, Longitude=16.49671745300293),\n",
              " Row(id=2, first_name='Kimberly', last_name='Von Welden', gender='Female', city='Bulgan', JobTitle='Programmer II', salary='$62846.60', Latitude=48.823158264160156, Longitude=103.52182006835938),\n",
              " Row(id=3, first_name='Alvera', last_name='Di Boldi', gender='Female', city=None, JobTitle=None, salary='$57576.52', Latitude=39.994747161865234, Longitude=116.33977508544922),\n",
              " Row(id=4, first_name='Shannon', last_name=\"O'Griffin\", gender='Male', city='Divnomorskoye', JobTitle='Budget/Accounting Analyst II', salary='$61489.23', Latitude=44.504722595214844, Longitude=38.1300163269043),\n",
              " Row(id=5, first_name='Sherwood', last_name='Macieja', gender='Male', city='Mytishchi', JobTitle='VP Sales', salary='$63863.09', Latitude=None, Longitude=37.64899444580078),\n",
              " Row(id=6, first_name='Maris', last_name='Folk', gender='Female', city='Kinsealy-Drinan', JobTitle='Civil Engineer', salary='$30101.16', Latitude=53.426612854003906, Longitude=-6.164499759674072),\n",
              " Row(id=7, first_name='Masha', last_name='Divers', gender='Female', city='Dachun', JobTitle=None, salary='$25090.87', Latitude=24.87941551208496, Longitude=118.93011474609375),\n",
              " Row(id=8, first_name='Goddart', last_name='Flear', gender='Male', city='Trélissac', JobTitle='Desktop Support Technician', salary='$46116.36', Latitude=45.19051742553711, Longitude=0.7423123717308044),\n",
              " Row(id=9, first_name='Roth', last_name=\"O'Cannavan\", gender='Male', city='Heitan', JobTitle='VP Product Management', salary='$73697.10', Latitude=32.02793502807617, Longitude=106.65711212158203),\n",
              " Row(id=10, first_name='Bran', last_name='Trahear', gender='Male', city='Arbeláez', JobTitle='Mechanical Systems Engineer', salary='$68098.42', Latitude=4.272792816162109, Longitude=-74.416015625),\n",
              " Row(id=11, first_name='Kylynn', last_name='Lockart', gender='Female', city='El Cardo', JobTitle='Nuclear Power Engineer', salary='$13604.63', Latitude=-5.849999904632568, Longitude=-79.88333129882812),\n",
              " Row(id=12, first_name='Rey', last_name='Meharg', gender='Female', city='Wangqingtuo', JobTitle='Systems Administrator I', salary='$73423.70', Latitude=39.17237854003906, Longitude=116.93161010742188),\n",
              " Row(id=13, first_name='Kerr', last_name='Braden', gender='Male', city='Sułkowice', JobTitle='Compensation Analyst', salary='$33432.99', Latitude=49.815181732177734, Longitude=19.377174377441406),\n",
              " Row(id=14, first_name='Mickie', last_name='Whanstall', gender='Male', city='Springfield', JobTitle='Assistant Media Planner', salary='$50838.53', Latitude=42.101478576660156, Longitude=-72.57667541503906),\n",
              " Row(id=15, first_name='Kaspar', last_name='Pally', gender='Male', city='Chrást', JobTitle='Analyst Programmer', salary='$40163.03', Latitude=49.79233169555664, Longitude=13.491532325744629)]"
            ]
          },
          "metadata": {},
          "execution_count": 12
        }
      ]
    },
    {
      "cell_type": "code",
      "source": [
        "df2.first()"
      ],
      "metadata": {
        "colab": {
          "base_uri": "https://localhost:8080/"
        },
        "id": "eAycGzPRaHgK",
        "outputId": "f0fec871-ba9c-42d7-d031-016c470c283c"
      },
      "execution_count": 13,
      "outputs": [
        {
          "output_type": "execute_result",
          "data": {
            "text/plain": [
              "Row(id=1, first_name='Melinde', last_name='Shilburne', gender='Female', city='Nowa Ruda', JobTitle='Assistant Professor', salary='$57438.18', Latitude=50.57740783691406, Longitude=16.49671745300293)"
            ]
          },
          "metadata": {},
          "execution_count": 13
        }
      ]
    },
    {
      "cell_type": "code",
      "source": [
        "#statistics about the dataframe\n",
        "df2.describe().show()"
      ],
      "metadata": {
        "colab": {
          "base_uri": "https://localhost:8080/"
        },
        "id": "-12DNss0Z3c4",
        "outputId": "88ba7a48-5bc1-4f06-e8c4-e54be82a2719"
      },
      "execution_count": 14,
      "outputs": [
        {
          "output_type": "stream",
          "name": "stdout",
          "text": [
            "+-------+-----------------+----------+---------+------+-------------------+-------------------+---------+------------------+-----------------+\n",
            "|summary|               id|first_name|last_name|gender|               city|           JobTitle|   salary|          Latitude|        Longitude|\n",
            "+-------+-----------------+----------+---------+------+-------------------+-------------------+---------+------------------+-----------------+\n",
            "|  count|             1000|      1000|     1000|  1000|                999|                998|     1000|               999|             1000|\n",
            "|   mean|            500.5|      NULL|     NULL|  NULL|               NULL|               NULL|     NULL| 25.43151724702484|43.33756460386515|\n",
            "| stddev|288.8194360957494|      NULL|     NULL|  NULL|               NULL|               NULL|     NULL|24.579082550156635| 69.4206453674681|\n",
            "|    min|                1|   Abagail|    Abbay|Female|             Abéché|Account Coordinator|$10101.92|         -54.28115|       -123.04196|\n",
            "|    max|             1000|    Zulema| de Marco|  Male|‘Aşīrah al Qiblīyah|   Web Developer IV|$99948.28|          69.63186|        175.28227|\n",
            "+-------+-----------------+----------+---------+------+-------------------+-------------------+---------+------------------+-----------------+\n",
            "\n"
          ]
        }
      ]
    },
    {
      "cell_type": "code",
      "source": [
        "df2.columns"
      ],
      "metadata": {
        "colab": {
          "base_uri": "https://localhost:8080/"
        },
        "id": "vqp7rM1LaZEC",
        "outputId": "78c148e3-63f7-4066-f4fd-e7ee9def0922"
      },
      "execution_count": 15,
      "outputs": [
        {
          "output_type": "execute_result",
          "data": {
            "text/plain": [
              "['id',\n",
              " 'first_name',\n",
              " 'last_name',\n",
              " 'gender',\n",
              " 'city',\n",
              " 'JobTitle',\n",
              " 'salary',\n",
              " 'Latitude',\n",
              " 'Longitude']"
            ]
          },
          "metadata": {},
          "execution_count": 15
        }
      ]
    },
    {
      "cell_type": "code",
      "source": [
        "df2.count()"
      ],
      "metadata": {
        "colab": {
          "base_uri": "https://localhost:8080/"
        },
        "id": "HusEmsvNabKc",
        "outputId": "8aea718e-e580-4818-b9af-05e8a05f1388"
      },
      "execution_count": 16,
      "outputs": [
        {
          "output_type": "execute_result",
          "data": {
            "text/plain": [
              "1000"
            ]
          },
          "metadata": {},
          "execution_count": 16
        }
      ]
    },
    {
      "cell_type": "code",
      "source": [
        "df2.distinct().count()"
      ],
      "metadata": {
        "colab": {
          "base_uri": "https://localhost:8080/"
        },
        "id": "4npKbYtdacrB",
        "outputId": "d63927a5-34b0-4f30-e73d-14c551ada637"
      },
      "execution_count": 17,
      "outputs": [
        {
          "output_type": "execute_result",
          "data": {
            "text/plain": [
              "1000"
            ]
          },
          "metadata": {},
          "execution_count": 17
        }
      ]
    },
    {
      "cell_type": "code",
      "source": [
        "df_dropped_nulls = df2.na.drop()\n",
        "df_dropped_nulls.show()"
      ],
      "metadata": {
        "colab": {
          "base_uri": "https://localhost:8080/"
        },
        "id": "qcPvgvsSbIIa",
        "outputId": "33c1834d-7a2f-4469-d2da-86766694b41f"
      },
      "execution_count": 18,
      "outputs": [
        {
          "output_type": "stream",
          "name": "stdout",
          "text": [
            "+---+----------+----------+------+---------------+--------------------+---------+----------+----------+\n",
            "| id|first_name| last_name|gender|           city|            JobTitle|   salary|  Latitude| Longitude|\n",
            "+---+----------+----------+------+---------------+--------------------+---------+----------+----------+\n",
            "|  1|   Melinde| Shilburne|Female|      Nowa Ruda| Assistant Professor|$57438.18| 50.577408| 16.496717|\n",
            "|  2|  Kimberly|Von Welden|Female|         Bulgan|       Programmer II|$62846.60|  48.82316| 103.52182|\n",
            "|  4|   Shannon| O'Griffin|  Male|  Divnomorskoye|Budget/Accounting...|$61489.23| 44.504723| 38.130016|\n",
            "|  6|     Maris|      Folk|Female|Kinsealy-Drinan|      Civil Engineer|$30101.16| 53.426613|-6.1644998|\n",
            "|  8|   Goddart|     Flear|  Male|      Trélissac|Desktop Support T...|$46116.36| 45.190517| 0.7423124|\n",
            "|  9|      Roth|O'Cannavan|  Male|         Heitan|VP Product Manage...|$73697.10| 32.027935| 106.65711|\n",
            "| 10|      Bran|   Trahear|  Male|       Arbeláez|Mechanical System...|$68098.42|  4.272793|-74.416016|\n",
            "| 11|    Kylynn|   Lockart|Female|       El Cardo|Nuclear Power Eng...|$13604.63|     -5.85| -79.88333|\n",
            "| 12|       Rey|    Meharg|Female|    Wangqingtuo|Systems Administr...|$73423.70|  39.17238| 116.93161|\n",
            "| 13|      Kerr|    Braden|  Male|      Sułkowice|Compensation Analyst|$33432.99|  49.81518| 19.377174|\n",
            "| 14|    Mickie| Whanstall|  Male|    Springfield|Assistant Media P...|$50838.53|  42.10148|-72.576675|\n",
            "| 15|    Kaspar|     Pally|  Male|         Chrást|  Analyst Programmer|$40163.03|  49.79233| 13.491532|\n",
            "| 16|    Norbie|    Gwyllt|  Male|         Xijiao|              Editor|$32492.73| 43.494576|  5.897802|\n",
            "| 17|    Claude|    Briant|Female|      Mieścisko|Research Assistan...|$51862.48| 52.744167| 17.327864|\n",
            "| 18|     Thain|    Habbon|  Male| Foros do Trapo|     Design Engineer|$42135.67| 38.696247| -8.709834|\n",
            "| 19|  Tiffanie|  Pattison|Female|    Jabungsisir|Senior Financial ...|$91925.08|-7.7232566| 113.46868|\n",
            "| 20|    Ettore|  Gerriets|  Male|          Pedra| Staff Accountant IV|$73921.33| 40.717205|-8.3625145|\n",
            "| 21|      Alon|  Chasteau|  Male|          Xin’e|     Web Developer I|$62755.85|  49.16291| 127.98658|\n",
            "| 22|   Guthrey|    Johnke|  Male|         Xijiao|         Developer I|$13708.03| 40.757683| 23.134218|\n",
            "| 23|   Lurleen|   Janczak|Female|      Rozkishne|    Web Developer IV|$29384.72|  48.49028|  39.27122|\n",
            "+---+----------+----------+------+---------------+--------------------+---------+----------+----------+\n",
            "only showing top 20 rows\n",
            "\n"
          ]
        }
      ]
    },
    {
      "cell_type": "code",
      "source": [
        "df_filtered = df2.filter(df2.JobTitle.isNotNull())\n",
        "df_filtered.show()"
      ],
      "metadata": {
        "colab": {
          "base_uri": "https://localhost:8080/"
        },
        "id": "_04acwpPbTOu",
        "outputId": "82d46118-7d24-4a31-de8c-923bfd730e5e"
      },
      "execution_count": 19,
      "outputs": [
        {
          "output_type": "stream",
          "name": "stdout",
          "text": [
            "+---+----------+----------+------+---------------+--------------------+---------+----------+----------+\n",
            "| id|first_name| last_name|gender|           city|            JobTitle|   salary|  Latitude| Longitude|\n",
            "+---+----------+----------+------+---------------+--------------------+---------+----------+----------+\n",
            "|  1|   Melinde| Shilburne|Female|      Nowa Ruda| Assistant Professor|$57438.18| 50.577408| 16.496717|\n",
            "|  2|  Kimberly|Von Welden|Female|         Bulgan|       Programmer II|$62846.60|  48.82316| 103.52182|\n",
            "|  4|   Shannon| O'Griffin|  Male|  Divnomorskoye|Budget/Accounting...|$61489.23| 44.504723| 38.130016|\n",
            "|  5|  Sherwood|   Macieja|  Male|      Mytishchi|            VP Sales|$63863.09|      NULL| 37.648994|\n",
            "|  6|     Maris|      Folk|Female|Kinsealy-Drinan|      Civil Engineer|$30101.16| 53.426613|-6.1644998|\n",
            "|  8|   Goddart|     Flear|  Male|      Trélissac|Desktop Support T...|$46116.36| 45.190517| 0.7423124|\n",
            "|  9|      Roth|O'Cannavan|  Male|         Heitan|VP Product Manage...|$73697.10| 32.027935| 106.65711|\n",
            "| 10|      Bran|   Trahear|  Male|       Arbeláez|Mechanical System...|$68098.42|  4.272793|-74.416016|\n",
            "| 11|    Kylynn|   Lockart|Female|       El Cardo|Nuclear Power Eng...|$13604.63|     -5.85| -79.88333|\n",
            "| 12|       Rey|    Meharg|Female|    Wangqingtuo|Systems Administr...|$73423.70|  39.17238| 116.93161|\n",
            "| 13|      Kerr|    Braden|  Male|      Sułkowice|Compensation Analyst|$33432.99|  49.81518| 19.377174|\n",
            "| 14|    Mickie| Whanstall|  Male|    Springfield|Assistant Media P...|$50838.53|  42.10148|-72.576675|\n",
            "| 15|    Kaspar|     Pally|  Male|         Chrást|  Analyst Programmer|$40163.03|  49.79233| 13.491532|\n",
            "| 16|    Norbie|    Gwyllt|  Male|         Xijiao|              Editor|$32492.73| 43.494576|  5.897802|\n",
            "| 17|    Claude|    Briant|Female|      Mieścisko|Research Assistan...|$51862.48| 52.744167| 17.327864|\n",
            "| 18|     Thain|    Habbon|  Male| Foros do Trapo|     Design Engineer|$42135.67| 38.696247| -8.709834|\n",
            "| 19|  Tiffanie|  Pattison|Female|    Jabungsisir|Senior Financial ...|$91925.08|-7.7232566| 113.46868|\n",
            "| 20|    Ettore|  Gerriets|  Male|          Pedra| Staff Accountant IV|$73921.33| 40.717205|-8.3625145|\n",
            "| 21|      Alon|  Chasteau|  Male|          Xin’e|     Web Developer I|$62755.85|  49.16291| 127.98658|\n",
            "| 22|   Guthrey|    Johnke|  Male|         Xijiao|         Developer I|$13708.03| 40.757683| 23.134218|\n",
            "+---+----------+----------+------+---------------+--------------------+---------+----------+----------+\n",
            "only showing top 20 rows\n",
            "\n"
          ]
        }
      ]
    },
    {
      "cell_type": "code",
      "source": [
        "df_handled = df2.withColumn('clean_city', when(df2.city.isNull(), 'Unknown').otherwise(df2.city))\n",
        "df_handled.show()"
      ],
      "metadata": {
        "colab": {
          "base_uri": "https://localhost:8080/"
        },
        "id": "wTS6tMyYcLnQ",
        "outputId": "51af97f9-30c1-4176-e581-8bb94bb9ec91"
      },
      "execution_count": 20,
      "outputs": [
        {
          "output_type": "stream",
          "name": "stdout",
          "text": [
            "+---+----------+----------+------+---------------+--------------------+---------+----------+----------+---------------+\n",
            "| id|first_name| last_name|gender|           city|            JobTitle|   salary|  Latitude| Longitude|     clean_city|\n",
            "+---+----------+----------+------+---------------+--------------------+---------+----------+----------+---------------+\n",
            "|  1|   Melinde| Shilburne|Female|      Nowa Ruda| Assistant Professor|$57438.18| 50.577408| 16.496717|      Nowa Ruda|\n",
            "|  2|  Kimberly|Von Welden|Female|         Bulgan|       Programmer II|$62846.60|  48.82316| 103.52182|         Bulgan|\n",
            "|  3|    Alvera|  Di Boldi|Female|           NULL|                NULL|$57576.52| 39.994747|116.339775|        Unknown|\n",
            "|  4|   Shannon| O'Griffin|  Male|  Divnomorskoye|Budget/Accounting...|$61489.23| 44.504723| 38.130016|  Divnomorskoye|\n",
            "|  5|  Sherwood|   Macieja|  Male|      Mytishchi|            VP Sales|$63863.09|      NULL| 37.648994|      Mytishchi|\n",
            "|  6|     Maris|      Folk|Female|Kinsealy-Drinan|      Civil Engineer|$30101.16| 53.426613|-6.1644998|Kinsealy-Drinan|\n",
            "|  7|     Masha|    Divers|Female|         Dachun|                NULL|$25090.87| 24.879416|118.930115|         Dachun|\n",
            "|  8|   Goddart|     Flear|  Male|      Trélissac|Desktop Support T...|$46116.36| 45.190517| 0.7423124|      Trélissac|\n",
            "|  9|      Roth|O'Cannavan|  Male|         Heitan|VP Product Manage...|$73697.10| 32.027935| 106.65711|         Heitan|\n",
            "| 10|      Bran|   Trahear|  Male|       Arbeláez|Mechanical System...|$68098.42|  4.272793|-74.416016|       Arbeláez|\n",
            "| 11|    Kylynn|   Lockart|Female|       El Cardo|Nuclear Power Eng...|$13604.63|     -5.85| -79.88333|       El Cardo|\n",
            "| 12|       Rey|    Meharg|Female|    Wangqingtuo|Systems Administr...|$73423.70|  39.17238| 116.93161|    Wangqingtuo|\n",
            "| 13|      Kerr|    Braden|  Male|      Sułkowice|Compensation Analyst|$33432.99|  49.81518| 19.377174|      Sułkowice|\n",
            "| 14|    Mickie| Whanstall|  Male|    Springfield|Assistant Media P...|$50838.53|  42.10148|-72.576675|    Springfield|\n",
            "| 15|    Kaspar|     Pally|  Male|         Chrást|  Analyst Programmer|$40163.03|  49.79233| 13.491532|         Chrást|\n",
            "| 16|    Norbie|    Gwyllt|  Male|         Xijiao|              Editor|$32492.73| 43.494576|  5.897802|         Xijiao|\n",
            "| 17|    Claude|    Briant|Female|      Mieścisko|Research Assistan...|$51862.48| 52.744167| 17.327864|      Mieścisko|\n",
            "| 18|     Thain|    Habbon|  Male| Foros do Trapo|     Design Engineer|$42135.67| 38.696247| -8.709834| Foros do Trapo|\n",
            "| 19|  Tiffanie|  Pattison|Female|    Jabungsisir|Senior Financial ...|$91925.08|-7.7232566| 113.46868|    Jabungsisir|\n",
            "| 20|    Ettore|  Gerriets|  Male|          Pedra| Staff Accountant IV|$73921.33| 40.717205|-8.3625145|          Pedra|\n",
            "+---+----------+----------+------+---------------+--------------------+---------+----------+----------+---------------+\n",
            "only showing top 20 rows\n",
            "\n"
          ]
        }
      ]
    },
    {
      "cell_type": "code",
      "source": [
        "df_drop_dups = df_handled.dropDuplicates()\n",
        "df_drop_dups.show()"
      ],
      "metadata": {
        "colab": {
          "base_uri": "https://localhost:8080/"
        },
        "id": "-rCqbQV2dXOh",
        "outputId": "c53c64e9-e53a-4c7e-8a81-294a054f6513"
      },
      "execution_count": 21,
      "outputs": [
        {
          "output_type": "stream",
          "name": "stdout",
          "text": [
            "+---+----------+----------+------+---------------+--------------------+---------+----------+----------+---------------+\n",
            "| id|first_name| last_name|gender|           city|            JobTitle|   salary|  Latitude| Longitude|     clean_city|\n",
            "+---+----------+----------+------+---------------+--------------------+---------+----------+----------+---------------+\n",
            "|391|     Verge|  Hefferan|  Male|     Cocachacra|Community Outreac...|$90391.71|-17.091843| -71.77114|     Cocachacra|\n",
            "|995|      Niki|  Ashbrook|  Male|Novozavidovskiy|    Media Manager II|$67437.88|  56.55148|  36.43472|Novozavidovskiy|\n",
            "| 87|   Celisse|   Trevers|Female|     Nezlobnaya|            Operator|$20601.37| 44.120186|  43.40174|     Nezlobnaya|\n",
            "|305|   Clemmie|    Gaddas|  Male|    Vila Viçosa|Administrative As...|$44675.97| 38.775417|  -7.41612|    Vila Viçosa|\n",
            "|356|   Clement|  Goodrick|  Male|         Žrnovo|Software Engineer II|$74782.64|   42.9239| 17.113007|         Žrnovo|\n",
            "|401|      Roma| O'Shevlan|  Male|      Las Lomas|     Sales Associate|$89750.90|  8.443012| -82.37773|      Las Lomas|\n",
            "|547|     Adena|  Halliday|Female|     Skellefteå|           Professor|$54621.01|  64.76332| 21.063148|     Skellefteå|\n",
            "|552|     Ricky| Hallawell|  Male|        Thorold|     Staff Scientist|$19832.05| 43.113598| -79.21692|        Thorold|\n",
            "|569|     Valma|   Bratton|Female|      Kurayoshi|    Web Developer II|$32665.89| 35.449905| 133.76134|      Kurayoshi|\n",
            "|605|    Deedee|  Trippick|Female|          Angol|   Director of Sales|$43413.15|-37.806072|-72.703804|          Angol|\n",
            "|879|   Dulcine|   Torrese|Female|     Neochórion|Analog Circuit De...|$81293.52|      38.7| 21.466667|     Neochórion|\n",
            "|988|       Edd|    Putley|  Male|        Tiannan|  Staff Accountant I|$11209.81| 39.343357| 117.36165|        Tiannan|\n",
            "| 43|   Hadrian|    Crumpe|  Male|          Rosso|Physical Therapy ...|$36879.44| 16.516342|-15.802612|          Rosso|\n",
            "|114|      Penn|   Meeland|  Male|          Zhuqi|               Nurse|$38301.58| 22.270979|113.576675|          Zhuqi|\n",
            "|123|      Katy| Jovicevic|Female|      Mieścisko|    Dental Hygienist|$18764.53| 58.684196| 15.751332|      Mieścisko|\n",
            "|677|   Candida| Halversen|Female|         Guzhen|Mechanical System...|$94642.39| 22.613405| 113.19087|         Guzhen|\n",
            "|772|  Valentia|Cicconetti|Female|         Bauchi|Systems Administr...|$71556.44| 10.300964|  9.823653|         Bauchi|\n",
            "| 74|  Julietta| Andrusyak|Female|Agios Dimitrios|       VP Accounting|$32930.55| 37.935696| 23.729456|Agios Dimitrios|\n",
            "|104|   Chantal| Darlaston|Female|         Kahama|Sales Representative|$27726.38| -3.837556| 32.593826|         Kahama|\n",
            "|369|    Siffre|Chatterton|  Male|        Runović|           Professor|$58200.36|  43.37655| 17.231178|        Runović|\n",
            "+---+----------+----------+------+---------------+--------------------+---------+----------+----------+---------------+\n",
            "only showing top 20 rows\n",
            "\n"
          ]
        }
      ]
    },
    {
      "cell_type": "code",
      "source": [
        "#bitwise operators AND , OR using multiple filters\n",
        "df_mult_filter = df_handled.filter((df_handled.first_name.isin('Aldin', 'Valma')) & (df_handled.city.like('%ondon')))\n",
        "# df_mult_filter = df_handled.filter((df_handled.first_name.isin('Aldin', 'Valma')) | (df_handled.city.like('%ondon')))\n",
        "df_mult_filter.show()"
      ],
      "metadata": {
        "colab": {
          "base_uri": "https://localhost:8080/"
        },
        "id": "-w1_jV5WLT-v",
        "outputId": "d4dcec5f-72f5-47ad-fc28-2d6a38e5ce01"
      },
      "execution_count": 22,
      "outputs": [
        {
          "output_type": "stream",
          "name": "stdout",
          "text": [
            "+---+----------+-------------+------+-----------+--------+---------+----------+---------+-----------+\n",
            "| id|first_name|    last_name|gender|       city|JobTitle|   salary|  Latitude|Longitude| clean_city|\n",
            "+---+----------+-------------+------+-----------+--------+---------+----------+---------+-----------+\n",
            "|901|     Aldin|Matuszkiewicz|  Male|East London|Operator|$41468.83|-32.954933|27.931913|East London|\n",
            "+---+----------+-------------+------+-----------+--------+---------+----------+---------+-----------+\n",
            "\n"
          ]
        }
      ]
    },
    {
      "cell_type": "code",
      "source": [
        "df2.show()"
      ],
      "metadata": {
        "colab": {
          "base_uri": "https://localhost:8080/"
        },
        "id": "JBpSnovVNNf4",
        "outputId": "83379516-f97c-4d49-cfca-5452bf1d2ab0"
      },
      "execution_count": 23,
      "outputs": [
        {
          "output_type": "stream",
          "name": "stdout",
          "text": [
            "+---+----------+----------+------+---------------+--------------------+---------+----------+----------+\n",
            "| id|first_name| last_name|gender|           city|            JobTitle|   salary|  Latitude| Longitude|\n",
            "+---+----------+----------+------+---------------+--------------------+---------+----------+----------+\n",
            "|  1|   Melinde| Shilburne|Female|      Nowa Ruda| Assistant Professor|$57438.18| 50.577408| 16.496717|\n",
            "|  2|  Kimberly|Von Welden|Female|         Bulgan|       Programmer II|$62846.60|  48.82316| 103.52182|\n",
            "|  3|    Alvera|  Di Boldi|Female|           NULL|                NULL|$57576.52| 39.994747|116.339775|\n",
            "|  4|   Shannon| O'Griffin|  Male|  Divnomorskoye|Budget/Accounting...|$61489.23| 44.504723| 38.130016|\n",
            "|  5|  Sherwood|   Macieja|  Male|      Mytishchi|            VP Sales|$63863.09|      NULL| 37.648994|\n",
            "|  6|     Maris|      Folk|Female|Kinsealy-Drinan|      Civil Engineer|$30101.16| 53.426613|-6.1644998|\n",
            "|  7|     Masha|    Divers|Female|         Dachun|                NULL|$25090.87| 24.879416|118.930115|\n",
            "|  8|   Goddart|     Flear|  Male|      Trélissac|Desktop Support T...|$46116.36| 45.190517| 0.7423124|\n",
            "|  9|      Roth|O'Cannavan|  Male|         Heitan|VP Product Manage...|$73697.10| 32.027935| 106.65711|\n",
            "| 10|      Bran|   Trahear|  Male|       Arbeláez|Mechanical System...|$68098.42|  4.272793|-74.416016|\n",
            "| 11|    Kylynn|   Lockart|Female|       El Cardo|Nuclear Power Eng...|$13604.63|     -5.85| -79.88333|\n",
            "| 12|       Rey|    Meharg|Female|    Wangqingtuo|Systems Administr...|$73423.70|  39.17238| 116.93161|\n",
            "| 13|      Kerr|    Braden|  Male|      Sułkowice|Compensation Analyst|$33432.99|  49.81518| 19.377174|\n",
            "| 14|    Mickie| Whanstall|  Male|    Springfield|Assistant Media P...|$50838.53|  42.10148|-72.576675|\n",
            "| 15|    Kaspar|     Pally|  Male|         Chrást|  Analyst Programmer|$40163.03|  49.79233| 13.491532|\n",
            "| 16|    Norbie|    Gwyllt|  Male|         Xijiao|              Editor|$32492.73| 43.494576|  5.897802|\n",
            "| 17|    Claude|    Briant|Female|      Mieścisko|Research Assistan...|$51862.48| 52.744167| 17.327864|\n",
            "| 18|     Thain|    Habbon|  Male| Foros do Trapo|     Design Engineer|$42135.67| 38.696247| -8.709834|\n",
            "| 19|  Tiffanie|  Pattison|Female|    Jabungsisir|Senior Financial ...|$91925.08|-7.7232566| 113.46868|\n",
            "| 20|    Ettore|  Gerriets|  Male|          Pedra| Staff Accountant IV|$73921.33| 40.717205|-8.3625145|\n",
            "+---+----------+----------+------+---------------+--------------------+---------+----------+----------+\n",
            "only showing top 20 rows\n",
            "\n"
          ]
        }
      ]
    },
    {
      "cell_type": "code",
      "source": [
        "df2_filter_ids = df2.filter((df2.id>10) & (df2.id<100))\n",
        "df2_filter_ids.show(100)"
      ],
      "metadata": {
        "colab": {
          "base_uri": "https://localhost:8080/"
        },
        "id": "mI4pxUuLNtvu",
        "outputId": "110b9a87-2a61-4930-f41c-025761f923bd"
      },
      "execution_count": 24,
      "outputs": [
        {
          "output_type": "stream",
          "name": "stdout",
          "text": [
            "+---+----------+-----------+------+--------------------+--------------------+---------+----------+----------+\n",
            "| id|first_name|  last_name|gender|                city|            JobTitle|   salary|  Latitude| Longitude|\n",
            "+---+----------+-----------+------+--------------------+--------------------+---------+----------+----------+\n",
            "| 11|    Kylynn|    Lockart|Female|            El Cardo|Nuclear Power Eng...|$13604.63|     -5.85| -79.88333|\n",
            "| 12|       Rey|     Meharg|Female|         Wangqingtuo|Systems Administr...|$73423.70|  39.17238| 116.93161|\n",
            "| 13|      Kerr|     Braden|  Male|           Sułkowice|Compensation Analyst|$33432.99|  49.81518| 19.377174|\n",
            "| 14|    Mickie|  Whanstall|  Male|         Springfield|Assistant Media P...|$50838.53|  42.10148|-72.576675|\n",
            "| 15|    Kaspar|      Pally|  Male|              Chrást|  Analyst Programmer|$40163.03|  49.79233| 13.491532|\n",
            "| 16|    Norbie|     Gwyllt|  Male|              Xijiao|              Editor|$32492.73| 43.494576|  5.897802|\n",
            "| 17|    Claude|     Briant|Female|           Mieścisko|Research Assistan...|$51862.48| 52.744167| 17.327864|\n",
            "| 18|     Thain|     Habbon|  Male|      Foros do Trapo|     Design Engineer|$42135.67| 38.696247| -8.709834|\n",
            "| 19|  Tiffanie|   Pattison|Female|         Jabungsisir|Senior Financial ...|$91925.08|-7.7232566| 113.46868|\n",
            "| 20|    Ettore|   Gerriets|  Male|               Pedra| Staff Accountant IV|$73921.33| 40.717205|-8.3625145|\n",
            "| 21|      Alon|   Chasteau|  Male|               Xin’e|     Web Developer I|$62755.85|  49.16291| 127.98658|\n",
            "| 22|   Guthrey|     Johnke|  Male|              Xijiao|         Developer I|$13708.03| 40.757683| 23.134218|\n",
            "| 23|   Lurleen|    Janczak|Female|           Rozkishne|    Web Developer IV|$29384.72|  48.49028|  39.27122|\n",
            "| 24|    Nichol|     Holtum|Female|               Město|           Paralegal|$27797.98| 49.971825| 12.884627|\n",
            "| 25|     Shaun|     Bridle|Female|               Xitou| Office Assistant IV|$71279.60| 29.866917|118.403786|\n",
            "| 26|   Leandra|     Anfrey|Female|             Isfahan|VP Product Manage...|$30201.32|  32.65463| 51.667984|\n",
            "| 27|    Jarvis|     Perone|  Male|           Hägersten| Associate Professor|$55313.18| 59.283207| 17.957006|\n",
            "| 28|  Jaquelyn|     Hazard|Female|               Dhaka|      Tax Accountant|$68368.55| 23.810331|  90.41252|\n",
            "| 29|  Prudence|   Honacker|Female|         Suphan Buri|       VP Accounting|$64920.07| 14.546672|100.079575|\n",
            "| 30|    Cherey|      Liger|Female|               Itami|     Design Engineer|$94566.69|  34.77912|  135.4204|\n",
            "| 31|      Neda|       Krop|Female|    Ubon Ratchathani| Software Consultant|$48945.40| 15.247888| 104.87645|\n",
            "| 32| Westleigh|Belderfield|  Male|         Xiang Ngeun|      Accountant III|$78336.59|  19.76004| 102.18329|\n",
            "| 33|     Odell|    Morritt|  Male|Chalan Pago-Ordot...|     Design Engineer|$72777.48| 13.444138| 144.78209|\n",
            "| 34|     Barbi|  Fattorini|Female|         Wojcieszków|Desktop Support T...|$18163.55| 51.784008|  22.32681|\n",
            "| 35|      Base|  Summerlad|  Male|         Changuinola|Business Systems ...|$53137.80|  9.448871| -82.48518|\n",
            "| 36|     Paddy|    Ashness|  Male|            Ddmashen|        Engineer III|$34851.65| 40.568405| 44.815758|\n",
            "| 37|     Nicko|      Frays|  Male|              Caxias|      Health Coach I|$99786.40|-4.8654137|   -43.362|\n",
            "| 38|    Lonnie|  Townshend|Female|         As Sulayyil|Desktop Support T...|$44520.89| 20.466867|  45.56294|\n",
            "| 39|    Valida|   Salzberg|Female|         Pangnirtung| Assistant Professor|$94224.48|  66.14511| -65.71252|\n",
            "| 40| Pierrette|      Calow|Female|           Kaustinen|     Legal Assistant|$85120.77| 63.537266|  23.69932|\n",
            "| 41|   Deirdre| Codrington|Female|         Buena Vista| Software Engineer I|$85861.33|-17.458666| -63.66915|\n",
            "| 42|   Chelsie|    Yewdell|Female|             Klippan|         Engineer IV|$77039.47| 56.135742| 13.111945|\n",
            "| 43|   Hadrian|     Crumpe|  Male|               Rosso|Physical Therapy ...|$36879.44| 16.516342|-15.802612|\n",
            "| 44|   Orville|  Rigardeau|  Male|             Kokotów|     Data Coordiator|$20350.35| 50.014263| 20.096687|\n",
            "| 45| Gabrielle|   Tippings|Female|            Huangshi|              Editor|$98690.34|  30.20003| 115.03883|\n",
            "| 46|    Sollie|     D'Acth|  Male|              Mozdok|     Design Engineer|$31385.87|  43.74542| 44.683067|\n",
            "| 47|   Karissa|   Steinham|Female|            Qiligang|Human Resources A...|$56333.77| 30.916426| 118.73465|\n",
            "| 48|    Farlee|     Callen|  Male|         Tanjungluar|Structural Analys...|$16866.41| -8.776544| 116.50937|\n",
            "| 49|  Franklyn|      Campo|  Male|             Rzhavki|      Statistician I|$62765.00| 56.012775|  37.22298|\n",
            "| 50|    Joleen|    Kermeen|Female|        Pointe-Noire|     Statistician II|$31536.09| -4.769162| 11.866362|\n",
            "| 51|      Devi| Brownsmith|Female|      Mariano Moreno|Structural Analys...|$11376.58| -34.70618|-58.312477|\n",
            "| 52|      Seth|    Gosnell|  Male|              Ovruch|  Nurse Practicioner|$40880.00|  51.32683| 28.802896|\n",
            "| 53|   Leonard|    Maskell|  Male|            Pavlovsk| Associate Professor|$70536.96|  50.54167| 40.049805|\n",
            "| 54|Bartolomeo|   Draycott|  Male|            Zongzhai|VP Product Manage...|$20313.87| 34.746613| 113.62533|\n",
            "| 55|   Addison|    Goudard|  Male|Palmas De Gran Ca...|Safety Technician IV|$91642.24| 28.099018|-15.420325|\n",
            "| 56|   Goldina| MacFarlane|Female|               Gaohe|      Research Nurse|$25341.68|  36.14593| 113.01869|\n",
            "| 57|    Sigrid|   Iglesias|Female|            Zhenyuan|Human Resources M...|$24102.95| 27.049109| 108.42969|\n",
            "| 58| Valentine| Farnsworth|  Male|           Marjayoûn|Software Test Eng...|$21209.67| 33.359474|  35.58893|\n",
            "| 59|      Lusa|      Kowal|Female|            Registro|   Financial Advisor|$43176.23|-24.500229| -47.84481|\n",
            "| 60|       Rex|  Sapsforde|  Male|            Tartagal|Budget/Accounting...|$42001.91|-31.453413|-64.208916|\n",
            "| 61|      Adam|    Seagood|  Male|         Krajan Siki|  Research Associate|$28660.11|   -8.1831|  111.5359|\n",
            "| 62|  Pierette|    Zanelli|Female|          Chōfugaoka|Senior Quality En...|$72918.12| 35.655346| 139.54764|\n",
            "| 63|    Antone|       Erie|  Male|          Bilohirs’k|  Help Desk Operator|$51271.99| 45.057796| 34.605095|\n",
            "| 64|     Dougy|     Browse|  Male|          Neftegorsk|        Engineer III|$97531.47| 44.366554| 39.709908|\n",
            "| 65|    Faydra|   Ashpital|Female|             Kakamas|Budget/Accounting...|$44648.27|-28.672731| 20.428444|\n",
            "| 66|     Trish|    Yankeev|Female|             Monkayo|Assistant Media P...|$93014.49| 7.8394837| 126.05028|\n",
            "| 67|    Zorine|     Dradey|Female|             Kembang| Marketing Assistant|$88665.42| -6.471274| 110.81711|\n",
            "| 68|     Odell|  Hanselman|  Male|           Mosteiros|       Senior Editor|$62508.87| 39.193535| -7.286695|\n",
            "| 69|     Elsey|    Leathes|Female|         Santa Tecla|   Financial Analyst|$57635.05| 13.675784|-89.289474|\n",
            "| 70|      Elva|     Rabley|Female|          St. Thomas|  Analyst Programmer|$16987.33|  42.76656| -81.17475|\n",
            "| 71|      Port|      Earie|  Male|             Zheyuan|Environmental Spe...|$55844.60| 30.760344| 120.75566|\n",
            "| 72| Marmaduke|      Eykel|  Male|            Petrovsk|      Web Designer I|$14012.83|  52.28769| 45.360283|\n",
            "| 73|   Joelynn|   Schooley|Female|            Tân Hiệp| Software Consultant|$51871.31| 10.115436| 105.28344|\n",
            "| 74|  Julietta|  Andrusyak|Female|     Agios Dimitrios|       VP Accounting|$32930.55| 37.935696| 23.729456|\n",
            "| 75|       Roy|  Simmonite|  Male|           Zhongying|         Developer I|$49125.16|  39.95304| 116.37121|\n",
            "| 76|  Jonathon|     Rielly|  Male|              Duzhou|Automation Specia...|$66832.92| 31.298973| 120.58529|\n",
            "| 77|     Randa|  Yurivtsev|Female|           Kandangan|Physical Therapy ...|$63633.33|-2.7217612|115.200775|\n",
            "| 78|     Perri|      Brett|Female|             Klukeng|Software Test Eng...|$98439.49|   -8.3965|  123.0856|\n",
            "| 79|     Timmi|   Rapinett|Female|                  Ul|            Operator|$75531.19| 40.815773| -8.489917|\n",
            "| 80|     Kassi|    Stoakes|Female|              Pingle|     Web Designer II|$91516.53| 24.633362|  110.6433|\n",
            "| 81|     Alvin|      Doman|  Male|                Niny|Research Assistant I|$53258.86| 44.486843| 43.940807|\n",
            "| 82|     Maddy|   Francino|  Male|        Phra Khanong|Administrative As...|$29440.47| 13.691066| 100.61402|\n",
            "| 83|   Hillary|   Rainsden|  Male|            Martyush|      Tax Accountant|$51071.58| 56.399696| 61.879974|\n",
            "| 84|      Dael|     Bediss|  Male|   Chaloem Phra Kiat|      Civil Engineer|$54840.20| 9.9533825|  98.61117|\n",
            "| 85|   Gothart|     Olivey|  Male|          Zhongcheng|Assistant Media P...|$99942.92| 22.356083| 112.56237|\n",
            "| 86|    Conant|      Temby|  Male|              Xiying|VP Product Manage...|$49795.04| 31.340637| 119.82331|\n",
            "| 87|   Celisse|    Trevers|Female|          Nezlobnaya|            Operator|$20601.37| 44.120186|  43.40174|\n",
            "| 88|    Carole|      Gavan|Female|            Rajapeni| Account Coordinator|$27026.70|   -7.2841|  108.2148|\n",
            "| 89|     Pablo|    Whytock|  Male|Villa Paula de Sa...|Mechanical System...|$94648.51|-32.884205|-68.799805|\n",
            "| 90|    Cammie|      Stede|Female|          Sundbyberg|       Senior Editor|$45239.36| 59.368755| 17.977808|\n",
            "| 91|    Ianthe|    Szubert|Female|         Trollhättan| Marketing Assistant|$26830.47| 58.322002| 12.314594|\n",
            "| 92|    Lorene|     Loines|Female|           Michałowo|       Senior Editor|$36636.17| 53.032936| 23.606218|\n",
            "| 93|     Rowen|     Terren|  Male|             Inuyama|               Nurse|$35134.88| 36.860374| 137.42848|\n",
            "| 94|     Milka|   Brightie|Female|               Kítsi|Occupational Ther...|$31388.07| 37.851936| 23.840816|\n",
            "| 95| Nickolaus|  Wollaston|  Male| Qorovulbozor Shahri|    Registered Nurse|$47221.40|  39.50308|  64.81142|\n",
            "| 96|   Colette|Corradeschi|Female|           Piekoszów| Geological Engineer|$78229.00| 50.881638| 20.465929|\n",
            "| 97|  Emmalynn|    Poytres|Female| Santiago dos Velhos|Human Resources M...|$19591.11|  38.94926| -9.106881|\n",
            "| 98|    Enrica|  Vasyunkin|Female|           Fonte Boa|Accounting Assist...|$30039.87|-2.4681008|-66.141525|\n",
            "| 99| Margarete|Andreopolos|Female|           Neglasari|    Quality Engineer|$23216.03| -6.147133| 106.62324|\n",
            "+---+----------+-----------+------+--------------------+--------------------+---------+----------+----------+\n",
            "\n"
          ]
        }
      ]
    },
    {
      "cell_type": "code",
      "source": [
        "# df2.registerTempTable('original')\n",
        "df2.createOrReplaceTempView('original')"
      ],
      "metadata": {
        "id": "UZX92MMbORAN"
      },
      "execution_count": 25,
      "outputs": []
    },
    {
      "cell_type": "code",
      "source": [
        "df_sql = spark.sql('select * from original')\n",
        "# df_sql = spark.sql('select * from original where cast(replace(salary,\"$\",''), float) > 10000')\n",
        "df_sql.show()"
      ],
      "metadata": {
        "colab": {
          "base_uri": "https://localhost:8080/"
        },
        "id": "VIf8pA4qOHI8",
        "outputId": "6cd0c3ac-5253-49aa-e530-2358899c27b6"
      },
      "execution_count": 28,
      "outputs": [
        {
          "output_type": "stream",
          "name": "stdout",
          "text": [
            "+---+----------+----------+------+---------------+--------------------+---------+----------+----------+\n",
            "| id|first_name| last_name|gender|           city|            JobTitle|   salary|  Latitude| Longitude|\n",
            "+---+----------+----------+------+---------------+--------------------+---------+----------+----------+\n",
            "|  1|   Melinde| Shilburne|Female|      Nowa Ruda| Assistant Professor|$57438.18| 50.577408| 16.496717|\n",
            "|  2|  Kimberly|Von Welden|Female|         Bulgan|       Programmer II|$62846.60|  48.82316| 103.52182|\n",
            "|  3|    Alvera|  Di Boldi|Female|           NULL|                NULL|$57576.52| 39.994747|116.339775|\n",
            "|  4|   Shannon| O'Griffin|  Male|  Divnomorskoye|Budget/Accounting...|$61489.23| 44.504723| 38.130016|\n",
            "|  5|  Sherwood|   Macieja|  Male|      Mytishchi|            VP Sales|$63863.09|      NULL| 37.648994|\n",
            "|  6|     Maris|      Folk|Female|Kinsealy-Drinan|      Civil Engineer|$30101.16| 53.426613|-6.1644998|\n",
            "|  7|     Masha|    Divers|Female|         Dachun|                NULL|$25090.87| 24.879416|118.930115|\n",
            "|  8|   Goddart|     Flear|  Male|      Trélissac|Desktop Support T...|$46116.36| 45.190517| 0.7423124|\n",
            "|  9|      Roth|O'Cannavan|  Male|         Heitan|VP Product Manage...|$73697.10| 32.027935| 106.65711|\n",
            "| 10|      Bran|   Trahear|  Male|       Arbeláez|Mechanical System...|$68098.42|  4.272793|-74.416016|\n",
            "| 11|    Kylynn|   Lockart|Female|       El Cardo|Nuclear Power Eng...|$13604.63|     -5.85| -79.88333|\n",
            "| 12|       Rey|    Meharg|Female|    Wangqingtuo|Systems Administr...|$73423.70|  39.17238| 116.93161|\n",
            "| 13|      Kerr|    Braden|  Male|      Sułkowice|Compensation Analyst|$33432.99|  49.81518| 19.377174|\n",
            "| 14|    Mickie| Whanstall|  Male|    Springfield|Assistant Media P...|$50838.53|  42.10148|-72.576675|\n",
            "| 15|    Kaspar|     Pally|  Male|         Chrást|  Analyst Programmer|$40163.03|  49.79233| 13.491532|\n",
            "| 16|    Norbie|    Gwyllt|  Male|         Xijiao|              Editor|$32492.73| 43.494576|  5.897802|\n",
            "| 17|    Claude|    Briant|Female|      Mieścisko|Research Assistan...|$51862.48| 52.744167| 17.327864|\n",
            "| 18|     Thain|    Habbon|  Male| Foros do Trapo|     Design Engineer|$42135.67| 38.696247| -8.709834|\n",
            "| 19|  Tiffanie|  Pattison|Female|    Jabungsisir|Senior Financial ...|$91925.08|-7.7232566| 113.46868|\n",
            "| 20|    Ettore|  Gerriets|  Male|          Pedra| Staff Accountant IV|$73921.33| 40.717205|-8.3625145|\n",
            "+---+----------+----------+------+---------------+--------------------+---------+----------+----------+\n",
            "only showing top 20 rows\n",
            "\n"
          ]
        }
      ]
    },
    {
      "cell_type": "code",
      "source": [
        "df_sql_filter = spark.sql('select  concat(first_name,\" \", last_name) as FullName,* from original where gender =  \"Female\"')\n",
        "df_sql_filter.show()"
      ],
      "metadata": {
        "colab": {
          "base_uri": "https://localhost:8080/"
        },
        "id": "_I8h2P744XVz",
        "outputId": "70c742ca-9375-4c61-ba70-04d91fd6a138"
      },
      "execution_count": 39,
      "outputs": [
        {
          "output_type": "stream",
          "name": "stdout",
          "text": [
            "+-------------------+---+----------+----------+------+----------------+--------------------+---------+----------+----------+\n",
            "|           FullName| id|first_name| last_name|gender|            city|            JobTitle|   salary|  Latitude| Longitude|\n",
            "+-------------------+---+----------+----------+------+----------------+--------------------+---------+----------+----------+\n",
            "|  Melinde Shilburne|  1|   Melinde| Shilburne|Female|       Nowa Ruda| Assistant Professor|$57438.18| 50.577408| 16.496717|\n",
            "|Kimberly Von Welden|  2|  Kimberly|Von Welden|Female|          Bulgan|       Programmer II|$62846.60|  48.82316| 103.52182|\n",
            "|    Alvera Di Boldi|  3|    Alvera|  Di Boldi|Female|            NULL|                NULL|$57576.52| 39.994747|116.339775|\n",
            "|         Maris Folk|  6|     Maris|      Folk|Female| Kinsealy-Drinan|      Civil Engineer|$30101.16| 53.426613|-6.1644998|\n",
            "|       Masha Divers|  7|     Masha|    Divers|Female|          Dachun|                NULL|$25090.87| 24.879416|118.930115|\n",
            "|     Kylynn Lockart| 11|    Kylynn|   Lockart|Female|        El Cardo|Nuclear Power Eng...|$13604.63|     -5.85| -79.88333|\n",
            "|         Rey Meharg| 12|       Rey|    Meharg|Female|     Wangqingtuo|Systems Administr...|$73423.70|  39.17238| 116.93161|\n",
            "|      Claude Briant| 17|    Claude|    Briant|Female|       Mieścisko|Research Assistan...|$51862.48| 52.744167| 17.327864|\n",
            "|  Tiffanie Pattison| 19|  Tiffanie|  Pattison|Female|     Jabungsisir|Senior Financial ...|$91925.08|-7.7232566| 113.46868|\n",
            "|    Lurleen Janczak| 23|   Lurleen|   Janczak|Female|       Rozkishne|    Web Developer IV|$29384.72|  48.49028|  39.27122|\n",
            "|      Nichol Holtum| 24|    Nichol|    Holtum|Female|           Město|           Paralegal|$27797.98| 49.971825| 12.884627|\n",
            "|       Shaun Bridle| 25|     Shaun|    Bridle|Female|           Xitou| Office Assistant IV|$71279.60| 29.866917|118.403786|\n",
            "|     Leandra Anfrey| 26|   Leandra|    Anfrey|Female|         Isfahan|VP Product Manage...|$30201.32|  32.65463| 51.667984|\n",
            "|    Jaquelyn Hazard| 28|  Jaquelyn|    Hazard|Female|           Dhaka|      Tax Accountant|$68368.55| 23.810331|  90.41252|\n",
            "|  Prudence Honacker| 29|  Prudence|  Honacker|Female|     Suphan Buri|       VP Accounting|$64920.07| 14.546672|100.079575|\n",
            "|       Cherey Liger| 30|    Cherey|     Liger|Female|           Itami|     Design Engineer|$94566.69|  34.77912|  135.4204|\n",
            "|          Neda Krop| 31|      Neda|      Krop|Female|Ubon Ratchathani| Software Consultant|$48945.40| 15.247888| 104.87645|\n",
            "|    Barbi Fattorini| 34|     Barbi| Fattorini|Female|     Wojcieszków|Desktop Support T...|$18163.55| 51.784008|  22.32681|\n",
            "|   Lonnie Townshend| 38|    Lonnie| Townshend|Female|     As Sulayyil|Desktop Support T...|$44520.89| 20.466867|  45.56294|\n",
            "|    Valida Salzberg| 39|    Valida|  Salzberg|Female|     Pangnirtung| Assistant Professor|$94224.48|  66.14511| -65.71252|\n",
            "+-------------------+---+----------+----------+------+----------------+--------------------+---------+----------+----------+\n",
            "only showing top 20 rows\n",
            "\n"
          ]
        }
      ]
    },
    {
      "cell_type": "code",
      "source": [
        "from pyspark.sql.functions import *\n",
        "df2 = df2.withColumn('Clean_Salary', df2.salary.substr(2,100).cast('float'))\n",
        "# .filter(df2.Clean_Salary, when(df2.Clean_Salary > 7000, df2.Clean_Salary.otherwise(df2.Clean_Salary+3000)))\n",
        "df2.show()"
      ],
      "metadata": {
        "colab": {
          "base_uri": "https://localhost:8080/"
        },
        "id": "n8KFUmBX5PKG",
        "outputId": "1858fcf8-809d-4a38-bedf-6574b56cce49"
      },
      "execution_count": 47,
      "outputs": [
        {
          "output_type": "stream",
          "name": "stdout",
          "text": [
            "+---+----------+----------+------+---------------+--------------------+---------+----------+----------+------------+\n",
            "| id|first_name| last_name|gender|           city|            JobTitle|   salary|  Latitude| Longitude|Clean_Salary|\n",
            "+---+----------+----------+------+---------------+--------------------+---------+----------+----------+------------+\n",
            "|  1|   Melinde| Shilburne|Female|      Nowa Ruda| Assistant Professor|$57438.18| 50.577408| 16.496717|    57438.18|\n",
            "|  2|  Kimberly|Von Welden|Female|         Bulgan|       Programmer II|$62846.60|  48.82316| 103.52182|     62846.6|\n",
            "|  3|    Alvera|  Di Boldi|Female|           NULL|                NULL|$57576.52| 39.994747|116.339775|    57576.52|\n",
            "|  4|   Shannon| O'Griffin|  Male|  Divnomorskoye|Budget/Accounting...|$61489.23| 44.504723| 38.130016|    61489.23|\n",
            "|  5|  Sherwood|   Macieja|  Male|      Mytishchi|            VP Sales|$63863.09|      NULL| 37.648994|    63863.09|\n",
            "|  6|     Maris|      Folk|Female|Kinsealy-Drinan|      Civil Engineer|$30101.16| 53.426613|-6.1644998|    30101.16|\n",
            "|  7|     Masha|    Divers|Female|         Dachun|                NULL|$25090.87| 24.879416|118.930115|    25090.87|\n",
            "|  8|   Goddart|     Flear|  Male|      Trélissac|Desktop Support T...|$46116.36| 45.190517| 0.7423124|    46116.36|\n",
            "|  9|      Roth|O'Cannavan|  Male|         Heitan|VP Product Manage...|$73697.10| 32.027935| 106.65711|     73697.1|\n",
            "| 10|      Bran|   Trahear|  Male|       Arbeláez|Mechanical System...|$68098.42|  4.272793|-74.416016|    68098.42|\n",
            "| 11|    Kylynn|   Lockart|Female|       El Cardo|Nuclear Power Eng...|$13604.63|     -5.85| -79.88333|    13604.63|\n",
            "| 12|       Rey|    Meharg|Female|    Wangqingtuo|Systems Administr...|$73423.70|  39.17238| 116.93161|     73423.7|\n",
            "| 13|      Kerr|    Braden|  Male|      Sułkowice|Compensation Analyst|$33432.99|  49.81518| 19.377174|    33432.99|\n",
            "| 14|    Mickie| Whanstall|  Male|    Springfield|Assistant Media P...|$50838.53|  42.10148|-72.576675|    50838.53|\n",
            "| 15|    Kaspar|     Pally|  Male|         Chrást|  Analyst Programmer|$40163.03|  49.79233| 13.491532|    40163.03|\n",
            "| 16|    Norbie|    Gwyllt|  Male|         Xijiao|              Editor|$32492.73| 43.494576|  5.897802|    32492.73|\n",
            "| 17|    Claude|    Briant|Female|      Mieścisko|Research Assistan...|$51862.48| 52.744167| 17.327864|    51862.48|\n",
            "| 18|     Thain|    Habbon|  Male| Foros do Trapo|     Design Engineer|$42135.67| 38.696247| -8.709834|    42135.67|\n",
            "| 19|  Tiffanie|  Pattison|Female|    Jabungsisir|Senior Financial ...|$91925.08|-7.7232566| 113.46868|    91925.08|\n",
            "| 20|    Ettore|  Gerriets|  Male|          Pedra| Staff Accountant IV|$73921.33| 40.717205|-8.3625145|    73921.33|\n",
            "+---+----------+----------+------+---------------+--------------------+---------+----------+----------+------------+\n",
            "only showing top 20 rows\n",
            "\n"
          ]
        }
      ]
    },
    {
      "cell_type": "code",
      "source": [],
      "metadata": {
        "id": "zbZcxTFt5YEA"
      },
      "execution_count": null,
      "outputs": []
    },
    {
      "cell_type": "code",
      "source": [
        "df2.describe().show()"
      ],
      "metadata": {
        "colab": {
          "base_uri": "https://localhost:8080/"
        },
        "id": "Fwa47_Vv7N5g",
        "outputId": "ebaadf7e-6143-45d5-d8f3-b36701d813fd"
      },
      "execution_count": 49,
      "outputs": [
        {
          "output_type": "stream",
          "name": "stdout",
          "text": [
            "+-------+-----------------+----------+---------+------+-------------------+-------------------+---------+------------------+-----------------+-----------------+\n",
            "|summary|               id|first_name|last_name|gender|               city|           JobTitle|   salary|          Latitude|        Longitude|     Clean_Salary|\n",
            "+-------+-----------------+----------+---------+------+-------------------+-------------------+---------+------------------+-----------------+-----------------+\n",
            "|  count|             1000|      1000|     1000|  1000|                999|                998|     1000|               999|             1000|             1000|\n",
            "|   mean|            500.5|      NULL|     NULL|  NULL|               NULL|               NULL|     NULL| 25.43151724702484|43.33756460386515|55487.95562890625|\n",
            "| stddev|288.8194360957494|      NULL|     NULL|  NULL|               NULL|               NULL|     NULL|24.579082550156635| 69.4206453674681|25855.22985831031|\n",
            "|    min|                1|   Abagail|    Abbay|Female|             Abéché|Account Coordinator|$10101.92|         -54.28115|       -123.04196|         10101.92|\n",
            "|    max|             1000|    Zulema| de Marco|  Male|‘Aşīrah al Qiblīyah|   Web Developer IV|$99948.28|          69.63186|        175.28227|         99948.28|\n",
            "+-------+-----------------+----------+---------+------+-------------------+-------------------+---------+------------------+-----------------+-----------------+\n",
            "\n"
          ]
        }
      ]
    },
    {
      "cell_type": "code",
      "source": [
        "df2 = df2.withColumn('monthly_salary', (df2.Clean_Salary/12).cast('float'))\n",
        "df2.show()"
      ],
      "metadata": {
        "colab": {
          "base_uri": "https://localhost:8080/"
        },
        "id": "STRkSYFF7XEm",
        "outputId": "a676e08d-71b7-4179-d9c6-d2c4306131fc"
      },
      "execution_count": 56,
      "outputs": [
        {
          "output_type": "stream",
          "name": "stdout",
          "text": [
            "+---+----------+----------+------+---------------+--------------------+---------+----------+----------+------------+--------------+\n",
            "| id|first_name| last_name|gender|           city|            JobTitle|   salary|  Latitude| Longitude|Clean_Salary|monthly_salary|\n",
            "+---+----------+----------+------+---------------+--------------------+---------+----------+----------+------------+--------------+\n",
            "|  1|   Melinde| Shilburne|Female|      Nowa Ruda| Assistant Professor|$57438.18| 50.577408| 16.496717|    57438.18|      4786.515|\n",
            "|  2|  Kimberly|Von Welden|Female|         Bulgan|       Programmer II|$62846.60|  48.82316| 103.52182|     62846.6|      5237.217|\n",
            "|  3|    Alvera|  Di Boldi|Female|           NULL|                NULL|$57576.52| 39.994747|116.339775|    57576.52|     4798.0435|\n",
            "|  4|   Shannon| O'Griffin|  Male|  Divnomorskoye|Budget/Accounting...|$61489.23| 44.504723| 38.130016|    61489.23|     5124.1025|\n",
            "|  5|  Sherwood|   Macieja|  Male|      Mytishchi|            VP Sales|$63863.09|      NULL| 37.648994|    63863.09|     5321.9243|\n",
            "|  6|     Maris|      Folk|Female|Kinsealy-Drinan|      Civil Engineer|$30101.16| 53.426613|-6.1644998|    30101.16|       2508.43|\n",
            "|  7|     Masha|    Divers|Female|         Dachun|                NULL|$25090.87| 24.879416|118.930115|    25090.87|     2090.9058|\n",
            "|  8|   Goddart|     Flear|  Male|      Trélissac|Desktop Support T...|$46116.36| 45.190517| 0.7423124|    46116.36|       3843.03|\n",
            "|  9|      Roth|O'Cannavan|  Male|         Heitan|VP Product Manage...|$73697.10| 32.027935| 106.65711|     73697.1|     6141.4253|\n",
            "| 10|      Bran|   Trahear|  Male|       Arbeláez|Mechanical System...|$68098.42|  4.272793|-74.416016|    68098.42|     5674.8687|\n",
            "| 11|    Kylynn|   Lockart|Female|       El Cardo|Nuclear Power Eng...|$13604.63|     -5.85| -79.88333|    13604.63|     1133.7191|\n",
            "| 12|       Rey|    Meharg|Female|    Wangqingtuo|Systems Administr...|$73423.70|  39.17238| 116.93161|     73423.7|      6118.642|\n",
            "| 13|      Kerr|    Braden|  Male|      Sułkowice|Compensation Analyst|$33432.99|  49.81518| 19.377174|    33432.99|     2786.0823|\n",
            "| 14|    Mickie| Whanstall|  Male|    Springfield|Assistant Media P...|$50838.53|  42.10148|-72.576675|    50838.53|     4236.5444|\n",
            "| 15|    Kaspar|     Pally|  Male|         Chrást|  Analyst Programmer|$40163.03|  49.79233| 13.491532|    40163.03|     3346.9192|\n",
            "| 16|    Norbie|    Gwyllt|  Male|         Xijiao|              Editor|$32492.73| 43.494576|  5.897802|    32492.73|     2707.7275|\n",
            "| 17|    Claude|    Briant|Female|      Mieścisko|Research Assistan...|$51862.48| 52.744167| 17.327864|    51862.48|     4321.8735|\n",
            "| 18|     Thain|    Habbon|  Male| Foros do Trapo|     Design Engineer|$42135.67| 38.696247| -8.709834|    42135.67|      3511.306|\n",
            "| 19|  Tiffanie|  Pattison|Female|    Jabungsisir|Senior Financial ...|$91925.08|-7.7232566| 113.46868|    91925.08|     7660.4233|\n",
            "| 20|    Ettore|  Gerriets|  Male|          Pedra| Staff Accountant IV|$73921.33| 40.717205|-8.3625145|    73921.33|      6160.111|\n",
            "+---+----------+----------+------+---------------+--------------------+---------+----------+----------+------------+--------------+\n",
            "only showing top 20 rows\n",
            "\n"
          ]
        }
      ]
    },
    {
      "cell_type": "code",
      "source": [
        "df2 = df2.withColumn('are_they_female', when(df2.gender == 'female', 'yes').otherwise('no'))\n",
        "# df2 = df2.withColumn('are_they_female', when((upper(df2.gender)) == 'FEMALE'), 'yes')).otherwise('no'))\n",
        "df2.show()"
      ],
      "metadata": {
        "colab": {
          "base_uri": "https://localhost:8080/"
        },
        "id": "4vwgp4rd8GwH",
        "outputId": "41730388-65ab-42b6-c3a0-47667db923db"
      },
      "execution_count": 65,
      "outputs": [
        {
          "output_type": "stream",
          "name": "stdout",
          "text": [
            "+---+----------+----------+------+---------------+--------------------+---------+----------+----------+------------+--------------+---------------+\n",
            "| id|first_name| last_name|gender|           city|            JobTitle|   salary|  Latitude| Longitude|Clean_Salary|monthly_salary|are_they_female|\n",
            "+---+----------+----------+------+---------------+--------------------+---------+----------+----------+------------+--------------+---------------+\n",
            "|  1|   Melinde| Shilburne|Female|      Nowa Ruda| Assistant Professor|$57438.18| 50.577408| 16.496717|    57438.18|      4786.515|             no|\n",
            "|  2|  Kimberly|Von Welden|Female|         Bulgan|       Programmer II|$62846.60|  48.82316| 103.52182|     62846.6|      5237.217|             no|\n",
            "|  3|    Alvera|  Di Boldi|Female|           NULL|                NULL|$57576.52| 39.994747|116.339775|    57576.52|     4798.0435|             no|\n",
            "|  4|   Shannon| O'Griffin|  Male|  Divnomorskoye|Budget/Accounting...|$61489.23| 44.504723| 38.130016|    61489.23|     5124.1025|             no|\n",
            "|  5|  Sherwood|   Macieja|  Male|      Mytishchi|            VP Sales|$63863.09|      NULL| 37.648994|    63863.09|     5321.9243|             no|\n",
            "|  6|     Maris|      Folk|Female|Kinsealy-Drinan|      Civil Engineer|$30101.16| 53.426613|-6.1644998|    30101.16|       2508.43|             no|\n",
            "|  7|     Masha|    Divers|Female|         Dachun|                NULL|$25090.87| 24.879416|118.930115|    25090.87|     2090.9058|             no|\n",
            "|  8|   Goddart|     Flear|  Male|      Trélissac|Desktop Support T...|$46116.36| 45.190517| 0.7423124|    46116.36|       3843.03|             no|\n",
            "|  9|      Roth|O'Cannavan|  Male|         Heitan|VP Product Manage...|$73697.10| 32.027935| 106.65711|     73697.1|     6141.4253|             no|\n",
            "| 10|      Bran|   Trahear|  Male|       Arbeláez|Mechanical System...|$68098.42|  4.272793|-74.416016|    68098.42|     5674.8687|             no|\n",
            "| 11|    Kylynn|   Lockart|Female|       El Cardo|Nuclear Power Eng...|$13604.63|     -5.85| -79.88333|    13604.63|     1133.7191|             no|\n",
            "| 12|       Rey|    Meharg|Female|    Wangqingtuo|Systems Administr...|$73423.70|  39.17238| 116.93161|     73423.7|      6118.642|             no|\n",
            "| 13|      Kerr|    Braden|  Male|      Sułkowice|Compensation Analyst|$33432.99|  49.81518| 19.377174|    33432.99|     2786.0823|             no|\n",
            "| 14|    Mickie| Whanstall|  Male|    Springfield|Assistant Media P...|$50838.53|  42.10148|-72.576675|    50838.53|     4236.5444|             no|\n",
            "| 15|    Kaspar|     Pally|  Male|         Chrást|  Analyst Programmer|$40163.03|  49.79233| 13.491532|    40163.03|     3346.9192|             no|\n",
            "| 16|    Norbie|    Gwyllt|  Male|         Xijiao|              Editor|$32492.73| 43.494576|  5.897802|    32492.73|     2707.7275|             no|\n",
            "| 17|    Claude|    Briant|Female|      Mieścisko|Research Assistan...|$51862.48| 52.744167| 17.327864|    51862.48|     4321.8735|             no|\n",
            "| 18|     Thain|    Habbon|  Male| Foros do Trapo|     Design Engineer|$42135.67| 38.696247| -8.709834|    42135.67|      3511.306|             no|\n",
            "| 19|  Tiffanie|  Pattison|Female|    Jabungsisir|Senior Financial ...|$91925.08|-7.7232566| 113.46868|    91925.08|     7660.4233|             no|\n",
            "| 20|    Ettore|  Gerriets|  Male|          Pedra| Staff Accountant IV|$73921.33| 40.717205|-8.3625145|    73921.33|      6160.111|             no|\n",
            "+---+----------+----------+------+---------------+--------------------+---------+----------+----------+------------+--------------+---------------+\n",
            "only showing top 20 rows\n",
            "\n"
          ]
        }
      ]
    },
    {
      "cell_type": "code",
      "source": [
        "import pyspark.sql.functions as sql_func"
      ],
      "metadata": {
        "id": "E1O4PPch_AD0"
      },
      "execution_count": 66,
      "outputs": []
    },
    {
      "cell_type": "code",
      "source": [
        "# df3 = df2.groupBy('gender').agg(sql_func.sum('monthly_salary').alias('total_monthly_salary_by_gender').cast('float'))\n",
        "df3 = df2.groupBy('gender').agg(sql_func.sum('monthly_salary').cast('float').alias('total_monthly_salary_by_gender'))\n",
        "df3.show()"
      ],
      "metadata": {
        "colab": {
          "base_uri": "https://localhost:8080/"
        },
        "id": "YUtEUjBx_FHR",
        "outputId": "20bb039b-2f0c-46a8-d5a2-e88faa110514"
      },
      "execution_count": 72,
      "outputs": [
        {
          "output_type": "stream",
          "name": "stdout",
          "text": [
            "+------+------------------------------+\n",
            "|gender|total_monthly_salary_by_gender|\n",
            "+------+------------------------------+\n",
            "|Female|                     2280376.8|\n",
            "|  Male|                     2343619.8|\n",
            "+------+------------------------------+\n",
            "\n"
          ]
        }
      ]
    },
    {
      "cell_type": "code",
      "source": [
        "df3 = df2.groupBy('gender','city').agg(sql_func.sum('clean_salary').alias('total_salary'),\n",
        "                                       sql_func.avg('clean_salary').alias('avg_salary'),\n",
        "                                       sql_func.max('clean_salary').alias('max_salary'),\n",
        "                                       sql_func.min('clean_salary').alias('min_salary'),\n",
        "                                       sql_func.count('clean_salary').alias('max_count_emp')\n",
        "\n",
        "                                       )\n",
        "# df3.show()\n",
        "df3.sort(desc('max_count_emp')).show()"
      ],
      "metadata": {
        "colab": {
          "base_uri": "https://localhost:8080/"
        },
        "id": "GY2fhwxLABSE",
        "outputId": "736ded2d-d4a0-4a9a-cb8f-234967e6c145"
      },
      "execution_count": 84,
      "outputs": [
        {
          "output_type": "stream",
          "name": "stdout",
          "text": [
            "+------+------------+----------------+-----------------+----------+----------+-------------+\n",
            "|gender|        city|    total_salary|       avg_salary|max_salary|min_salary|max_count_emp|\n",
            "+------+------------+----------------+-----------------+----------+----------+-------------+\n",
            "|  Male|     Cuogang|202341.990234375|50585.49755859375|  82505.36|  11832.43|            4|\n",
            "|Female| Trollhättan|106623.369140625| 53311.6845703125|   79792.9|  26830.47|            2|\n",
            "|  Male|Kuala Lumpur|  121664.8828125|   60832.44140625|   79030.6|  42634.28|            2|\n",
            "|  Male|      Melaka| 135305.95703125|  67652.978515625|  94743.26|   40562.7|            2|\n",
            "|  Male|      Xijiao|46200.7607421875|23100.38037109375|  32492.73|  13708.03|            2|\n",
            "|  Male| Tanjungluar|  38955.69921875|  19477.849609375|  22089.29|  16866.41|            2|\n",
            "|Female|   Mieścisko| 70627.009765625| 35313.5048828125|  51862.48|  18764.53|            2|\n",
            "|Female|       Copán|      110448.125|       55224.0625|  70378.23|   40069.9|            2|\n",
            "|  Male|    Arbeláez|  157116.1328125|   78558.06640625|  89017.71|  68098.42|            2|\n",
            "|Female|       Skene| 138061.27734375|  69030.638671875|  76849.72|  61211.56|            2|\n",
            "|Female|     Baalbek| 107504.80078125|  53752.400390625|  59975.62|  47529.18|            2|\n",
            "|Female|     Moulins|   136687.703125|    68343.8515625|  69062.63|  67625.07|            2|\n",
            "|  Male|      Dallas| 55870.408203125| 27935.2041015625|  36098.65|  19771.76|            2|\n",
            "|  Male|   Mieścisko|  44947.12109375|  22473.560546875|  26039.31|  18907.81|            2|\n",
            "|  Male|      Jiyang| 111250.42578125|  55625.212890625|  69976.55|  41273.88|            2|\n",
            "|Female|      Dachun| 25090.869140625|  25090.869140625|  25090.87|  25090.87|            1|\n",
            "|  Male|     Wenshao| 18941.509765625|  18941.509765625|  18941.51|  18941.51|            1|\n",
            "|Female|       Lanas| 13765.900390625|  13765.900390625|   13765.9|   13765.9|            1|\n",
            "|  Male|       Mörön|    77940.078125|     77940.078125|  77940.08|  77940.08|            1|\n",
            "|Female|        Same|   73369.7265625|    73369.7265625|  73369.73|  73369.73|            1|\n",
            "+------+------------+----------------+-----------------+----------+----------+-------------+\n",
            "only showing top 20 rows\n",
            "\n"
          ]
        }
      ]
    },
    {
      "cell_type": "markdown",
      "source": [
        "Writing files to destination formats like CSV, TXT, PARQUET, AVRO"
      ],
      "metadata": {
        "id": "qzAQGnLtCL2j"
      }
    },
    {
      "cell_type": "code",
      "source": [
        "df3.write.mode('overwrite').option(\"header\",True).csv('/content/drive/MyDrive/Colab Notebooks/resources/output/employees_by_gender_city.csv')"
      ],
      "metadata": {
        "id": "sWMyziP_CP2Z"
      },
      "execution_count": 91,
      "outputs": []
    },
    {
      "cell_type": "code",
      "source": [
        "df3.write.mode('overwrite').option(\"header\", True).json('/content/drive/MyDrive/Colab Notebooks/resources/output/employees_by_gender_city.json')"
      ],
      "metadata": {
        "id": "qfyknJQdD1XW"
      },
      "execution_count": 92,
      "outputs": []
    },
    {
      "cell_type": "code",
      "source": [
        "df3.write.mode('overwrite').option(\"header\",True).parquet('/content/drive/MyDrive/Colab Notebooks/resources/output/employees_by_gender_city.parquet')"
      ],
      "metadata": {
        "id": "5JZ5lZlAEe7k"
      },
      "execution_count": 93,
      "outputs": []
    },
    {
      "cell_type": "markdown",
      "source": [
        "We cant write into AVRO format directly from pyspark library"
      ],
      "metadata": {
        "id": "NPZCN1yqFa7N"
      }
    },
    {
      "cell_type": "code",
      "source": [
        "# import com.databricks.spark.avro._\n",
        "# import org.apache.spark.sql.SparkSession\n",
        "# df3.write.mode('overwrite').option(\"header\",True).avro('/content/drive/MyDrive/Colab Notebooks/resources/output/employees_by_gender_city.avro')"
      ],
      "metadata": {
        "id": "aQKLRf9AFDlS"
      },
      "execution_count": 96,
      "outputs": []
    },
    {
      "cell_type": "markdown",
      "source": [
        "Read a new csv file\n"
      ],
      "metadata": {
        "id": "AjICGEEhG337"
      }
    },
    {
      "cell_type": "code",
      "source": [
        "df =  spark.read.csv('/content/drive/MyDrive/Colab Notebooks/resources/input/challenge.csv', header=True)\n",
        "df.show()"
      ],
      "metadata": {
        "colab": {
          "base_uri": "https://localhost:8080/"
        },
        "id": "9RHf4cLCG6er",
        "outputId": "fb2da2ca-80c4-4ee2-d287-36b40527b9de"
      },
      "execution_count": 104,
      "outputs": [
        {
          "output_type": "stream",
          "name": "stdout",
          "text": [
            "+---------------+--------------+-----------------+----------+\n",
            "|     ip_address|       Country|      Domain Name|Bytes_used|\n",
            "+---------------+--------------+-----------------+----------+\n",
            "|  52.81.192.172|         China| odnoklassniki.ru|       463|\n",
            "| 119.239.207.13|         China|         youtu.be|        51|\n",
            "|  68.69.217.210|         China|        adobe.com|        10|\n",
            "|   7.191.21.223|      Bulgaria|     linkedin.com|       853|\n",
            "|   211.13.10.68|     Indonesia|          hud.gov|        29|\n",
            "|   239.80.21.97|      Suriname|       smh.com.au|       218|\n",
            "|106.214.106.233|       Jamaica|    amazonaws.com|        95|\n",
            "| 127.242.24.138|         China| surveymonkey.com|       123|\n",
            "|     99.2.6.139|Czech Republic|     geocities.jp|       322|\n",
            "|   237.54.11.63|         China|       amazon.com|        83|\n",
            "| 252.141.157.25|         Japan|      cornell.edu|       374|\n",
            "|185.220.128.248|       Belgium|       weebly.com|       389|\n",
            "|   151.77.19.45|   Afghanistan|independent.co.uk|       282|\n",
            "|  9.161.158.225|     Indonesia|    bloglines.com|       726|\n",
            "| 156.144.61.155|Czech Republic|   slideshare.net|       657|\n",
            "|   8.96.188.151|     Indonesia|          ibm.com|       517|\n",
            "|      5.72.7.65|        Mexico|         youtu.be|       877|\n",
            "|227.110.112.144|       Croatia|         ehow.com|       287|\n",
            "|    81.71.28.97|      Thailand|          last.fm|       588|\n",
            "|  9.255.129.184|      Thailand|          mtv.com|       114|\n",
            "+---------------+--------------+-----------------+----------+\n",
            "only showing top 20 rows\n",
            "\n"
          ]
        }
      ]
    },
    {
      "cell_type": "code",
      "source": [
        "df = df.withColumn('isMexico', when(df.Country == 'Mexico', 'yes').otherwise('no'))\n",
        "df.show()"
      ],
      "metadata": {
        "colab": {
          "base_uri": "https://localhost:8080/"
        },
        "id": "S4PnliO8HB_S",
        "outputId": "e50d746d-a408-4791-861f-5dceb6e4edce"
      },
      "execution_count": 105,
      "outputs": [
        {
          "output_type": "stream",
          "name": "stdout",
          "text": [
            "+---------------+--------------+-----------------+----------+--------+\n",
            "|     ip_address|       Country|      Domain Name|Bytes_used|isMexico|\n",
            "+---------------+--------------+-----------------+----------+--------+\n",
            "|  52.81.192.172|         China| odnoklassniki.ru|       463|      no|\n",
            "| 119.239.207.13|         China|         youtu.be|        51|      no|\n",
            "|  68.69.217.210|         China|        adobe.com|        10|      no|\n",
            "|   7.191.21.223|      Bulgaria|     linkedin.com|       853|      no|\n",
            "|   211.13.10.68|     Indonesia|          hud.gov|        29|      no|\n",
            "|   239.80.21.97|      Suriname|       smh.com.au|       218|      no|\n",
            "|106.214.106.233|       Jamaica|    amazonaws.com|        95|      no|\n",
            "| 127.242.24.138|         China| surveymonkey.com|       123|      no|\n",
            "|     99.2.6.139|Czech Republic|     geocities.jp|       322|      no|\n",
            "|   237.54.11.63|         China|       amazon.com|        83|      no|\n",
            "| 252.141.157.25|         Japan|      cornell.edu|       374|      no|\n",
            "|185.220.128.248|       Belgium|       weebly.com|       389|      no|\n",
            "|   151.77.19.45|   Afghanistan|independent.co.uk|       282|      no|\n",
            "|  9.161.158.225|     Indonesia|    bloglines.com|       726|      no|\n",
            "| 156.144.61.155|Czech Republic|   slideshare.net|       657|      no|\n",
            "|   8.96.188.151|     Indonesia|          ibm.com|       517|      no|\n",
            "|      5.72.7.65|        Mexico|         youtu.be|       877|     yes|\n",
            "|227.110.112.144|       Croatia|         ehow.com|       287|      no|\n",
            "|    81.71.28.97|      Thailand|          last.fm|       588|      no|\n",
            "|  9.255.129.184|      Thailand|          mtv.com|       114|      no|\n",
            "+---------------+--------------+-----------------+----------+--------+\n",
            "only showing top 20 rows\n",
            "\n"
          ]
        }
      ]
    },
    {
      "cell_type": "code",
      "source": [
        "df_isMexico = df.groupBy('isMexico').agg(sql_func.sum('bytes_used').alias('total_bytes_used'))\n",
        "df_isMexico.show()"
      ],
      "metadata": {
        "colab": {
          "base_uri": "https://localhost:8080/"
        },
        "id": "P7u8P7TNHYLh",
        "outputId": "2a7940bc-0079-4869-d9c8-4c82aa5320a5"
      },
      "execution_count": 106,
      "outputs": [
        {
          "output_type": "stream",
          "name": "stdout",
          "text": [
            "+--------+----------------+\n",
            "|isMexico|total_bytes_used|\n",
            "+--------+----------------+\n",
            "|      no|        508076.0|\n",
            "|     yes|          6293.0|\n",
            "+--------+----------------+\n",
            "\n"
          ]
        }
      ]
    },
    {
      "cell_type": "code",
      "source": [
        "df_country_ip = df.groupBy('Country').agg(sql_func.countDistinct('ip_address').alias('count_distinct_ips'))\n",
        "df_country_ip.sort(desc('count_distinct_ips')).show()"
      ],
      "metadata": {
        "colab": {
          "base_uri": "https://localhost:8080/"
        },
        "id": "rj2G8WYwIMV7",
        "outputId": "fc2c45df-ca9f-4479-df3a-5f85646867e9"
      },
      "execution_count": 109,
      "outputs": [
        {
          "output_type": "stream",
          "name": "stdout",
          "text": [
            "+--------------+------------------+\n",
            "|       Country|count_distinct_ips|\n",
            "+--------------+------------------+\n",
            "|         China|               172|\n",
            "|     Indonesia|               114|\n",
            "|   Philippines|                65|\n",
            "|        Russia|                56|\n",
            "|        Brazil|                35|\n",
            "|        Poland|                31|\n",
            "|        Sweden|                28|\n",
            "|         Japan|                25|\n",
            "|Czech Republic|                23|\n",
            "|      Portugal|                23|\n",
            "|        France|                21|\n",
            "|          Peru|                19|\n",
            "|      Colombia|                17|\n",
            "| United States|                15|\n",
            "|     Argentina|                14|\n",
            "|       Ukraine|                14|\n",
            "|        Mexico|                13|\n",
            "|      Thailand|                12|\n",
            "|       Nigeria|                11|\n",
            "|        Canada|                11|\n",
            "+--------------+------------------+\n",
            "only showing top 20 rows\n",
            "\n"
          ]
        }
      ]
    },
    {
      "cell_type": "code",
      "source": [
        "df.write.mode('overwrite').option(\"header\",True).csv('/content/drive/MyDrive/Colab Notebooks/resources/output/challenge.csv')\n",
        "df_country_ip.sort(desc('count_distinct_ips')).write.mode('overwrite').option(\"header\",True).csv('/content/drive/MyDrive/Colab Notebooks/resources/output/challenge_country_ip.csv')\n",
        "#"
      ],
      "metadata": {
        "id": "VEWSjh85JPz7"
      },
      "execution_count": 111,
      "outputs": []
    }
  ]
}